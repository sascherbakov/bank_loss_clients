{
 "cells": [
  {
   "cell_type": "markdown",
   "metadata": {},
   "source": [
    "# Отток клиентов"
   ]
  },
  {
   "cell_type": "markdown",
   "metadata": {},
   "source": [
    "Из «Бета-Банка» стали уходить клиенты. Каждый месяц. Немного, но заметно. Банковские маркетологи посчитали: сохранять текущих клиентов дешевле, чем привлекать новых.\n",
    "\n",
    "Нужно спрогнозировать, уйдёт клиент из банка в ближайшее время или нет. Вам предоставлены исторические данные о поведении клиентов и расторжении договоров с банком. "
   ]
  },
  {
   "cell_type": "markdown",
   "metadata": {},
   "source": [
    "# 1. Подготовка данных"
   ]
  },
  {
   "cell_type": "code",
   "execution_count": 1,
   "metadata": {},
   "outputs": [],
   "source": [
    "# Импортируем нужные библиотеки, метрики и пакеты\n",
    "import pandas as pd\n",
    "import numpy as np\n",
    "import matplotlib.pyplot as plt\n",
    "from sklearn.datasets import make_classification\n",
    "from sklearn.ensemble import ExtraTreesClassifier\n",
    "from sklearn.model_selection import train_test_split\n",
    "from sklearn.metrics import recall_score\n",
    "from sklearn.metrics import precision_score\n",
    "from sklearn.metrics import f1_score\n",
    "from sklearn.preprocessing import OrdinalEncoder\n",
    "from sklearn.linear_model import LogisticRegression\n",
    "from sklearn.ensemble import RandomForestClassifier\n",
    "from sklearn.tree import DecisionTreeClassifier\n",
    "from sklearn.utils import shuffle\n",
    "from scipy import stats as st\n",
    "from sklearn.preprocessing import StandardScaler\n",
    "from sklearn.metrics import classification_report\n",
    "from sklearn.metrics import confusion_matrix\n",
    "import seaborn as sn\n",
    "from sklearn.metrics import roc_auc_score\n",
    "from sklearn.metrics import roc_curve"
   ]
  },
  {
   "cell_type": "code",
   "execution_count": 2,
   "metadata": {},
   "outputs": [
    {
     "data": {
      "text/html": [
       "<div>\n",
       "<style scoped>\n",
       "    .dataframe tbody tr th:only-of-type {\n",
       "        vertical-align: middle;\n",
       "    }\n",
       "\n",
       "    .dataframe tbody tr th {\n",
       "        vertical-align: top;\n",
       "    }\n",
       "\n",
       "    .dataframe thead th {\n",
       "        text-align: right;\n",
       "    }\n",
       "</style>\n",
       "<table border=\"1\" class=\"dataframe\">\n",
       "  <thead>\n",
       "    <tr style=\"text-align: right;\">\n",
       "      <th></th>\n",
       "      <th>RowNumber</th>\n",
       "      <th>CustomerId</th>\n",
       "      <th>Surname</th>\n",
       "      <th>CreditScore</th>\n",
       "      <th>Geography</th>\n",
       "      <th>Gender</th>\n",
       "      <th>Age</th>\n",
       "      <th>Tenure</th>\n",
       "      <th>Balance</th>\n",
       "      <th>NumOfProducts</th>\n",
       "      <th>HasCrCard</th>\n",
       "      <th>IsActiveMember</th>\n",
       "      <th>EstimatedSalary</th>\n",
       "      <th>Exited</th>\n",
       "    </tr>\n",
       "  </thead>\n",
       "  <tbody>\n",
       "    <tr>\n",
       "      <td>0</td>\n",
       "      <td>1</td>\n",
       "      <td>15634602</td>\n",
       "      <td>Hargrave</td>\n",
       "      <td>619</td>\n",
       "      <td>France</td>\n",
       "      <td>Female</td>\n",
       "      <td>42</td>\n",
       "      <td>2.0</td>\n",
       "      <td>0.00</td>\n",
       "      <td>1</td>\n",
       "      <td>1</td>\n",
       "      <td>1</td>\n",
       "      <td>101348.88</td>\n",
       "      <td>1</td>\n",
       "    </tr>\n",
       "    <tr>\n",
       "      <td>1</td>\n",
       "      <td>2</td>\n",
       "      <td>15647311</td>\n",
       "      <td>Hill</td>\n",
       "      <td>608</td>\n",
       "      <td>Spain</td>\n",
       "      <td>Female</td>\n",
       "      <td>41</td>\n",
       "      <td>1.0</td>\n",
       "      <td>83807.86</td>\n",
       "      <td>1</td>\n",
       "      <td>0</td>\n",
       "      <td>1</td>\n",
       "      <td>112542.58</td>\n",
       "      <td>0</td>\n",
       "    </tr>\n",
       "    <tr>\n",
       "      <td>2</td>\n",
       "      <td>3</td>\n",
       "      <td>15619304</td>\n",
       "      <td>Onio</td>\n",
       "      <td>502</td>\n",
       "      <td>France</td>\n",
       "      <td>Female</td>\n",
       "      <td>42</td>\n",
       "      <td>8.0</td>\n",
       "      <td>159660.80</td>\n",
       "      <td>3</td>\n",
       "      <td>1</td>\n",
       "      <td>0</td>\n",
       "      <td>113931.57</td>\n",
       "      <td>1</td>\n",
       "    </tr>\n",
       "    <tr>\n",
       "      <td>3</td>\n",
       "      <td>4</td>\n",
       "      <td>15701354</td>\n",
       "      <td>Boni</td>\n",
       "      <td>699</td>\n",
       "      <td>France</td>\n",
       "      <td>Female</td>\n",
       "      <td>39</td>\n",
       "      <td>1.0</td>\n",
       "      <td>0.00</td>\n",
       "      <td>2</td>\n",
       "      <td>0</td>\n",
       "      <td>0</td>\n",
       "      <td>93826.63</td>\n",
       "      <td>0</td>\n",
       "    </tr>\n",
       "    <tr>\n",
       "      <td>4</td>\n",
       "      <td>5</td>\n",
       "      <td>15737888</td>\n",
       "      <td>Mitchell</td>\n",
       "      <td>850</td>\n",
       "      <td>Spain</td>\n",
       "      <td>Female</td>\n",
       "      <td>43</td>\n",
       "      <td>2.0</td>\n",
       "      <td>125510.82</td>\n",
       "      <td>1</td>\n",
       "      <td>1</td>\n",
       "      <td>1</td>\n",
       "      <td>79084.10</td>\n",
       "      <td>0</td>\n",
       "    </tr>\n",
       "  </tbody>\n",
       "</table>\n",
       "</div>"
      ],
      "text/plain": [
       "   RowNumber  CustomerId   Surname  CreditScore Geography  Gender  Age  \\\n",
       "0          1    15634602  Hargrave          619    France  Female   42   \n",
       "1          2    15647311      Hill          608     Spain  Female   41   \n",
       "2          3    15619304      Onio          502    France  Female   42   \n",
       "3          4    15701354      Boni          699    France  Female   39   \n",
       "4          5    15737888  Mitchell          850     Spain  Female   43   \n",
       "\n",
       "   Tenure    Balance  NumOfProducts  HasCrCard  IsActiveMember  \\\n",
       "0     2.0       0.00              1          1               1   \n",
       "1     1.0   83807.86              1          0               1   \n",
       "2     8.0  159660.80              3          1               0   \n",
       "3     1.0       0.00              2          0               0   \n",
       "4     2.0  125510.82              1          1               1   \n",
       "\n",
       "   EstimatedSalary  Exited  \n",
       "0        101348.88       1  \n",
       "1        112542.58       0  \n",
       "2        113931.57       1  \n",
       "3         93826.63       0  \n",
       "4         79084.10       0  "
      ]
     },
     "execution_count": 2,
     "metadata": {},
     "output_type": "execute_result"
    }
   ],
   "source": [
    "# Прочитаем наш датафрейм и выведем 5 значений на экран\n",
    "data = pd.read_csv('/datasets/Churn.csv')\n",
    "data.head()"
   ]
  },
  {
   "cell_type": "code",
   "execution_count": 3,
   "metadata": {},
   "outputs": [
    {
     "name": "stdout",
     "output_type": "stream",
     "text": [
      "<class 'pandas.core.frame.DataFrame'>\n",
      "RangeIndex: 10000 entries, 0 to 9999\n",
      "Data columns (total 14 columns):\n",
      "RowNumber          10000 non-null int64\n",
      "CustomerId         10000 non-null int64\n",
      "Surname            10000 non-null object\n",
      "CreditScore        10000 non-null int64\n",
      "Geography          10000 non-null object\n",
      "Gender             10000 non-null object\n",
      "Age                10000 non-null int64\n",
      "Tenure             9091 non-null float64\n",
      "Balance            10000 non-null float64\n",
      "NumOfProducts      10000 non-null int64\n",
      "HasCrCard          10000 non-null int64\n",
      "IsActiveMember     10000 non-null int64\n",
      "EstimatedSalary    10000 non-null float64\n",
      "Exited             10000 non-null int64\n",
      "dtypes: float64(3), int64(8), object(3)\n",
      "memory usage: 1.1+ MB\n"
     ]
    }
   ],
   "source": [
    "# Посмотрим общую информацию о датафрейме, наличие пропусков и типы столбцов\n",
    "data.info()"
   ]
  },
  {
   "cell_type": "markdown",
   "metadata": {},
   "source": [
    "Нам предоставили таблицу на 10 000 строк, и 13 признаков + целевой признак, который нужно будет научить модель предсказывать. Как видно из данных выше, у нас 3 признака имеют строковый тип данных, который нужно будет преобразовывать. Это Фамилия, Страна проживания и Пол. Фамилию я исключу из анализа, так как это признак сугубо уникальный и никак не влияет на то, останется ли клиент в банке, или же уйдет из него. Остальные два преобразуем техникой прямого кодирования. Так же есть проблемы с признаком - Количество недвижимости у клиента, там есть пропуски. Если данные признак будет существенным то нужно будет либо заполнить пропуски, либо исключить данные, где есть пропущенные значения. И я склонен ко второму варианту, хоть и удалять нужно будет примерно 10% наших данных, что не мало. Если заполнять пропущенные значения, средним, нулями или еще чем либо, мы будем повышать шум в наших данных, и наша модель может не корректно обучаться из-за этого, 10% искаженных данных может сильно повлиять на итоговый результат."
   ]
  },
  {
   "cell_type": "code",
   "execution_count": 4,
   "metadata": {},
   "outputs": [
    {
     "name": "stdout",
     "output_type": "stream",
     "text": [
      "<class 'pandas.core.frame.DataFrame'>\n",
      "RangeIndex: 10000 entries, 0 to 9999\n",
      "Data columns (total 14 columns):\n",
      "RowNumber            10000 non-null int64\n",
      "CustomerId           10000 non-null int64\n",
      "CreditScore          10000 non-null int64\n",
      "Age                  10000 non-null int64\n",
      "Tenure               9091 non-null float64\n",
      "Balance              10000 non-null float64\n",
      "NumOfProducts        10000 non-null int64\n",
      "HasCrCard            10000 non-null int64\n",
      "IsActiveMember       10000 non-null int64\n",
      "EstimatedSalary      10000 non-null float64\n",
      "Exited               10000 non-null int64\n",
      "Geography_Germany    10000 non-null uint8\n",
      "Geography_Spain      10000 non-null uint8\n",
      "Gender_Male          10000 non-null uint8\n",
      "dtypes: float64(3), int64(8), uint8(3)\n",
      "memory usage: 888.8 KB\n"
     ]
    }
   ],
   "source": [
    "# Удаляем столбец с фамилией клиента\n",
    "data = data.drop('Surname', axis=1)\n",
    "# Используем технику прямого кодирования, причем с аргументом drop_first, чтобы избежать дамми-ловушки\n",
    "data_ohe = pd.get_dummies(data, drop_first=True)\n",
    "data_ohe.info()"
   ]
  },
  {
   "cell_type": "markdown",
   "metadata": {},
   "source": [
    "Как видим, все столбцы приведены в нужный формат и можно двигаться далее. Поищем мультиколлинеарность и другие зависимости среди наших признаков. Посчитаем корреляцию и построим график."
   ]
  },
  {
   "cell_type": "code",
   "execution_count": 5,
   "metadata": {},
   "outputs": [
    {
     "data": {
      "text/html": [
       "<div>\n",
       "<style scoped>\n",
       "    .dataframe tbody tr th:only-of-type {\n",
       "        vertical-align: middle;\n",
       "    }\n",
       "\n",
       "    .dataframe tbody tr th {\n",
       "        vertical-align: top;\n",
       "    }\n",
       "\n",
       "    .dataframe thead th {\n",
       "        text-align: right;\n",
       "    }\n",
       "</style>\n",
       "<table border=\"1\" class=\"dataframe\">\n",
       "  <thead>\n",
       "    <tr style=\"text-align: right;\">\n",
       "      <th></th>\n",
       "      <th>RowNumber</th>\n",
       "      <th>CustomerId</th>\n",
       "      <th>CreditScore</th>\n",
       "      <th>Age</th>\n",
       "      <th>Tenure</th>\n",
       "      <th>Balance</th>\n",
       "      <th>NumOfProducts</th>\n",
       "      <th>HasCrCard</th>\n",
       "      <th>IsActiveMember</th>\n",
       "      <th>EstimatedSalary</th>\n",
       "      <th>Exited</th>\n",
       "      <th>Geography_Germany</th>\n",
       "      <th>Geography_Spain</th>\n",
       "      <th>Gender_Male</th>\n",
       "    </tr>\n",
       "  </thead>\n",
       "  <tbody>\n",
       "    <tr>\n",
       "      <td>RowNumber</td>\n",
       "      <td>1.000000</td>\n",
       "      <td>0.004202</td>\n",
       "      <td>0.005840</td>\n",
       "      <td>0.000783</td>\n",
       "      <td>-0.007322</td>\n",
       "      <td>-0.009067</td>\n",
       "      <td>0.007246</td>\n",
       "      <td>0.000599</td>\n",
       "      <td>0.012044</td>\n",
       "      <td>-0.005988</td>\n",
       "      <td>-0.016571</td>\n",
       "      <td>-0.000044</td>\n",
       "      <td>-0.009905</td>\n",
       "      <td>0.018196</td>\n",
       "    </tr>\n",
       "    <tr>\n",
       "      <td>CustomerId</td>\n",
       "      <td>0.004202</td>\n",
       "      <td>1.000000</td>\n",
       "      <td>0.005308</td>\n",
       "      <td>0.009497</td>\n",
       "      <td>-0.021418</td>\n",
       "      <td>-0.012419</td>\n",
       "      <td>0.016972</td>\n",
       "      <td>-0.014025</td>\n",
       "      <td>0.001665</td>\n",
       "      <td>0.015271</td>\n",
       "      <td>-0.006248</td>\n",
       "      <td>-0.003097</td>\n",
       "      <td>0.007800</td>\n",
       "      <td>-0.002641</td>\n",
       "    </tr>\n",
       "    <tr>\n",
       "      <td>CreditScore</td>\n",
       "      <td>0.005840</td>\n",
       "      <td>0.005308</td>\n",
       "      <td>1.000000</td>\n",
       "      <td>-0.003965</td>\n",
       "      <td>-0.000062</td>\n",
       "      <td>0.006268</td>\n",
       "      <td>0.012238</td>\n",
       "      <td>-0.005458</td>\n",
       "      <td>0.025651</td>\n",
       "      <td>-0.001384</td>\n",
       "      <td>-0.027094</td>\n",
       "      <td>0.005538</td>\n",
       "      <td>0.004780</td>\n",
       "      <td>-0.002857</td>\n",
       "    </tr>\n",
       "    <tr>\n",
       "      <td>Age</td>\n",
       "      <td>0.000783</td>\n",
       "      <td>0.009497</td>\n",
       "      <td>-0.003965</td>\n",
       "      <td>1.000000</td>\n",
       "      <td>-0.013134</td>\n",
       "      <td>0.028308</td>\n",
       "      <td>-0.030680</td>\n",
       "      <td>-0.011721</td>\n",
       "      <td>0.085472</td>\n",
       "      <td>-0.007201</td>\n",
       "      <td>0.285323</td>\n",
       "      <td>0.046897</td>\n",
       "      <td>-0.001685</td>\n",
       "      <td>-0.027544</td>\n",
       "    </tr>\n",
       "    <tr>\n",
       "      <td>Tenure</td>\n",
       "      <td>-0.007322</td>\n",
       "      <td>-0.021418</td>\n",
       "      <td>-0.000062</td>\n",
       "      <td>-0.013134</td>\n",
       "      <td>1.000000</td>\n",
       "      <td>-0.007911</td>\n",
       "      <td>0.011979</td>\n",
       "      <td>0.027232</td>\n",
       "      <td>-0.032178</td>\n",
       "      <td>0.010520</td>\n",
       "      <td>-0.016761</td>\n",
       "      <td>-0.003299</td>\n",
       "      <td>0.000810</td>\n",
       "      <td>0.012634</td>\n",
       "    </tr>\n",
       "    <tr>\n",
       "      <td>Balance</td>\n",
       "      <td>-0.009067</td>\n",
       "      <td>-0.012419</td>\n",
       "      <td>0.006268</td>\n",
       "      <td>0.028308</td>\n",
       "      <td>-0.007911</td>\n",
       "      <td>1.000000</td>\n",
       "      <td>-0.304180</td>\n",
       "      <td>-0.014858</td>\n",
       "      <td>-0.010084</td>\n",
       "      <td>0.012797</td>\n",
       "      <td>0.118533</td>\n",
       "      <td>0.401110</td>\n",
       "      <td>-0.134892</td>\n",
       "      <td>0.012087</td>\n",
       "    </tr>\n",
       "    <tr>\n",
       "      <td>NumOfProducts</td>\n",
       "      <td>0.007246</td>\n",
       "      <td>0.016972</td>\n",
       "      <td>0.012238</td>\n",
       "      <td>-0.030680</td>\n",
       "      <td>0.011979</td>\n",
       "      <td>-0.304180</td>\n",
       "      <td>1.000000</td>\n",
       "      <td>0.003183</td>\n",
       "      <td>0.009612</td>\n",
       "      <td>0.014204</td>\n",
       "      <td>-0.047820</td>\n",
       "      <td>-0.010419</td>\n",
       "      <td>0.009039</td>\n",
       "      <td>-0.021859</td>\n",
       "    </tr>\n",
       "    <tr>\n",
       "      <td>HasCrCard</td>\n",
       "      <td>0.000599</td>\n",
       "      <td>-0.014025</td>\n",
       "      <td>-0.005458</td>\n",
       "      <td>-0.011721</td>\n",
       "      <td>0.027232</td>\n",
       "      <td>-0.014858</td>\n",
       "      <td>0.003183</td>\n",
       "      <td>1.000000</td>\n",
       "      <td>-0.011866</td>\n",
       "      <td>-0.009933</td>\n",
       "      <td>-0.007138</td>\n",
       "      <td>0.010577</td>\n",
       "      <td>-0.013480</td>\n",
       "      <td>0.005766</td>\n",
       "    </tr>\n",
       "    <tr>\n",
       "      <td>IsActiveMember</td>\n",
       "      <td>0.012044</td>\n",
       "      <td>0.001665</td>\n",
       "      <td>0.025651</td>\n",
       "      <td>0.085472</td>\n",
       "      <td>-0.032178</td>\n",
       "      <td>-0.010084</td>\n",
       "      <td>0.009612</td>\n",
       "      <td>-0.011866</td>\n",
       "      <td>1.000000</td>\n",
       "      <td>-0.011421</td>\n",
       "      <td>-0.156128</td>\n",
       "      <td>-0.020486</td>\n",
       "      <td>0.016732</td>\n",
       "      <td>0.022544</td>\n",
       "    </tr>\n",
       "    <tr>\n",
       "      <td>EstimatedSalary</td>\n",
       "      <td>-0.005988</td>\n",
       "      <td>0.015271</td>\n",
       "      <td>-0.001384</td>\n",
       "      <td>-0.007201</td>\n",
       "      <td>0.010520</td>\n",
       "      <td>0.012797</td>\n",
       "      <td>0.014204</td>\n",
       "      <td>-0.009933</td>\n",
       "      <td>-0.011421</td>\n",
       "      <td>1.000000</td>\n",
       "      <td>0.012097</td>\n",
       "      <td>0.010297</td>\n",
       "      <td>-0.006482</td>\n",
       "      <td>-0.008112</td>\n",
       "    </tr>\n",
       "    <tr>\n",
       "      <td>Exited</td>\n",
       "      <td>-0.016571</td>\n",
       "      <td>-0.006248</td>\n",
       "      <td>-0.027094</td>\n",
       "      <td>0.285323</td>\n",
       "      <td>-0.016761</td>\n",
       "      <td>0.118533</td>\n",
       "      <td>-0.047820</td>\n",
       "      <td>-0.007138</td>\n",
       "      <td>-0.156128</td>\n",
       "      <td>0.012097</td>\n",
       "      <td>1.000000</td>\n",
       "      <td>0.173488</td>\n",
       "      <td>-0.052667</td>\n",
       "      <td>-0.106512</td>\n",
       "    </tr>\n",
       "    <tr>\n",
       "      <td>Geography_Germany</td>\n",
       "      <td>-0.000044</td>\n",
       "      <td>-0.003097</td>\n",
       "      <td>0.005538</td>\n",
       "      <td>0.046897</td>\n",
       "      <td>-0.003299</td>\n",
       "      <td>0.401110</td>\n",
       "      <td>-0.010419</td>\n",
       "      <td>0.010577</td>\n",
       "      <td>-0.020486</td>\n",
       "      <td>0.010297</td>\n",
       "      <td>0.173488</td>\n",
       "      <td>1.000000</td>\n",
       "      <td>-0.332084</td>\n",
       "      <td>-0.024628</td>\n",
       "    </tr>\n",
       "    <tr>\n",
       "      <td>Geography_Spain</td>\n",
       "      <td>-0.009905</td>\n",
       "      <td>0.007800</td>\n",
       "      <td>0.004780</td>\n",
       "      <td>-0.001685</td>\n",
       "      <td>0.000810</td>\n",
       "      <td>-0.134892</td>\n",
       "      <td>0.009039</td>\n",
       "      <td>-0.013480</td>\n",
       "      <td>0.016732</td>\n",
       "      <td>-0.006482</td>\n",
       "      <td>-0.052667</td>\n",
       "      <td>-0.332084</td>\n",
       "      <td>1.000000</td>\n",
       "      <td>0.016889</td>\n",
       "    </tr>\n",
       "    <tr>\n",
       "      <td>Gender_Male</td>\n",
       "      <td>0.018196</td>\n",
       "      <td>-0.002641</td>\n",
       "      <td>-0.002857</td>\n",
       "      <td>-0.027544</td>\n",
       "      <td>0.012634</td>\n",
       "      <td>0.012087</td>\n",
       "      <td>-0.021859</td>\n",
       "      <td>0.005766</td>\n",
       "      <td>0.022544</td>\n",
       "      <td>-0.008112</td>\n",
       "      <td>-0.106512</td>\n",
       "      <td>-0.024628</td>\n",
       "      <td>0.016889</td>\n",
       "      <td>1.000000</td>\n",
       "    </tr>\n",
       "  </tbody>\n",
       "</table>\n",
       "</div>"
      ],
      "text/plain": [
       "                   RowNumber  CustomerId  CreditScore       Age    Tenure  \\\n",
       "RowNumber           1.000000    0.004202     0.005840  0.000783 -0.007322   \n",
       "CustomerId          0.004202    1.000000     0.005308  0.009497 -0.021418   \n",
       "CreditScore         0.005840    0.005308     1.000000 -0.003965 -0.000062   \n",
       "Age                 0.000783    0.009497    -0.003965  1.000000 -0.013134   \n",
       "Tenure             -0.007322   -0.021418    -0.000062 -0.013134  1.000000   \n",
       "Balance            -0.009067   -0.012419     0.006268  0.028308 -0.007911   \n",
       "NumOfProducts       0.007246    0.016972     0.012238 -0.030680  0.011979   \n",
       "HasCrCard           0.000599   -0.014025    -0.005458 -0.011721  0.027232   \n",
       "IsActiveMember      0.012044    0.001665     0.025651  0.085472 -0.032178   \n",
       "EstimatedSalary    -0.005988    0.015271    -0.001384 -0.007201  0.010520   \n",
       "Exited             -0.016571   -0.006248    -0.027094  0.285323 -0.016761   \n",
       "Geography_Germany  -0.000044   -0.003097     0.005538  0.046897 -0.003299   \n",
       "Geography_Spain    -0.009905    0.007800     0.004780 -0.001685  0.000810   \n",
       "Gender_Male         0.018196   -0.002641    -0.002857 -0.027544  0.012634   \n",
       "\n",
       "                    Balance  NumOfProducts  HasCrCard  IsActiveMember  \\\n",
       "RowNumber         -0.009067       0.007246   0.000599        0.012044   \n",
       "CustomerId        -0.012419       0.016972  -0.014025        0.001665   \n",
       "CreditScore        0.006268       0.012238  -0.005458        0.025651   \n",
       "Age                0.028308      -0.030680  -0.011721        0.085472   \n",
       "Tenure            -0.007911       0.011979   0.027232       -0.032178   \n",
       "Balance            1.000000      -0.304180  -0.014858       -0.010084   \n",
       "NumOfProducts     -0.304180       1.000000   0.003183        0.009612   \n",
       "HasCrCard         -0.014858       0.003183   1.000000       -0.011866   \n",
       "IsActiveMember    -0.010084       0.009612  -0.011866        1.000000   \n",
       "EstimatedSalary    0.012797       0.014204  -0.009933       -0.011421   \n",
       "Exited             0.118533      -0.047820  -0.007138       -0.156128   \n",
       "Geography_Germany  0.401110      -0.010419   0.010577       -0.020486   \n",
       "Geography_Spain   -0.134892       0.009039  -0.013480        0.016732   \n",
       "Gender_Male        0.012087      -0.021859   0.005766        0.022544   \n",
       "\n",
       "                   EstimatedSalary    Exited  Geography_Germany  \\\n",
       "RowNumber                -0.005988 -0.016571          -0.000044   \n",
       "CustomerId                0.015271 -0.006248          -0.003097   \n",
       "CreditScore              -0.001384 -0.027094           0.005538   \n",
       "Age                      -0.007201  0.285323           0.046897   \n",
       "Tenure                    0.010520 -0.016761          -0.003299   \n",
       "Balance                   0.012797  0.118533           0.401110   \n",
       "NumOfProducts             0.014204 -0.047820          -0.010419   \n",
       "HasCrCard                -0.009933 -0.007138           0.010577   \n",
       "IsActiveMember           -0.011421 -0.156128          -0.020486   \n",
       "EstimatedSalary           1.000000  0.012097           0.010297   \n",
       "Exited                    0.012097  1.000000           0.173488   \n",
       "Geography_Germany         0.010297  0.173488           1.000000   \n",
       "Geography_Spain          -0.006482 -0.052667          -0.332084   \n",
       "Gender_Male              -0.008112 -0.106512          -0.024628   \n",
       "\n",
       "                   Geography_Spain  Gender_Male  \n",
       "RowNumber                -0.009905     0.018196  \n",
       "CustomerId                0.007800    -0.002641  \n",
       "CreditScore               0.004780    -0.002857  \n",
       "Age                      -0.001685    -0.027544  \n",
       "Tenure                    0.000810     0.012634  \n",
       "Balance                  -0.134892     0.012087  \n",
       "NumOfProducts             0.009039    -0.021859  \n",
       "HasCrCard                -0.013480     0.005766  \n",
       "IsActiveMember            0.016732     0.022544  \n",
       "EstimatedSalary          -0.006482    -0.008112  \n",
       "Exited                   -0.052667    -0.106512  \n",
       "Geography_Germany        -0.332084    -0.024628  \n",
       "Geography_Spain           1.000000     0.016889  \n",
       "Gender_Male               0.016889     1.000000  "
      ]
     },
     "execution_count": 5,
     "metadata": {},
     "output_type": "execute_result"
    }
   ],
   "source": [
    "data_ohe.corr()"
   ]
  },
  {
   "cell_type": "code",
   "execution_count": 6,
   "metadata": {},
   "outputs": [
    {
     "data": {
      "text/plain": [
       "array([[<matplotlib.axes._subplots.AxesSubplot object at 0x7fa29ee6ad90>,\n",
       "        <matplotlib.axes._subplots.AxesSubplot object at 0x7fa29ce386d0>,\n",
       "        <matplotlib.axes._subplots.AxesSubplot object at 0x7fa29cdeed10>,\n",
       "        <matplotlib.axes._subplots.AxesSubplot object at 0x7fa29cdae210>,\n",
       "        <matplotlib.axes._subplots.AxesSubplot object at 0x7fa29cd63990>,\n",
       "        <matplotlib.axes._subplots.AxesSubplot object at 0x7fa29cd221d0>,\n",
       "        <matplotlib.axes._subplots.AxesSubplot object at 0x7fa29ccd7b10>,\n",
       "        <matplotlib.axes._subplots.AxesSubplot object at 0x7fa29cc97e50>,\n",
       "        <matplotlib.axes._subplots.AxesSubplot object at 0x7fa29cc971d0>,\n",
       "        <matplotlib.axes._subplots.AxesSubplot object at 0x7fa29cc567d0>,\n",
       "        <matplotlib.axes._subplots.AxesSubplot object at 0x7fa29cbc1a10>,\n",
       "        <matplotlib.axes._subplots.AxesSubplot object at 0x7fa29cb81250>,\n",
       "        <matplotlib.axes._subplots.AxesSubplot object at 0x7fa29cbb5a50>,\n",
       "        <matplotlib.axes._subplots.AxesSubplot object at 0x7fa29cb74290>],\n",
       "       [<matplotlib.axes._subplots.AxesSubplot object at 0x7fa29cb28a90>,\n",
       "        <matplotlib.axes._subplots.AxesSubplot object at 0x7fa29cae72d0>,\n",
       "        <matplotlib.axes._subplots.AxesSubplot object at 0x7fa29ca9dad0>,\n",
       "        <matplotlib.axes._subplots.AxesSubplot object at 0x7fa29ca5b310>,\n",
       "        <matplotlib.axes._subplots.AxesSubplot object at 0x7fa29ca11b10>,\n",
       "        <matplotlib.axes._subplots.AxesSubplot object at 0x7fa29c9d1350>,\n",
       "        <matplotlib.axes._subplots.AxesSubplot object at 0x7fa29c984b50>,\n",
       "        <matplotlib.axes._subplots.AxesSubplot object at 0x7fa29c946390>,\n",
       "        <matplotlib.axes._subplots.AxesSubplot object at 0x7fa29c978b90>,\n",
       "        <matplotlib.axes._subplots.AxesSubplot object at 0x7fa29c9383d0>,\n",
       "        <matplotlib.axes._subplots.AxesSubplot object at 0x7fa29c8efbd0>,\n",
       "        <matplotlib.axes._subplots.AxesSubplot object at 0x7fa29c8ae410>,\n",
       "        <matplotlib.axes._subplots.AxesSubplot object at 0x7fa29c862c10>,\n",
       "        <matplotlib.axes._subplots.AxesSubplot object at 0x7fa29c825450>],\n",
       "       [<matplotlib.axes._subplots.AxesSubplot object at 0x7fa29c7d7c50>,\n",
       "        <matplotlib.axes._subplots.AxesSubplot object at 0x7fa29c796490>,\n",
       "        <matplotlib.axes._subplots.AxesSubplot object at 0x7fa29c74ac90>,\n",
       "        <matplotlib.axes._subplots.AxesSubplot object at 0x7fa29c70b4d0>,\n",
       "        <matplotlib.axes._subplots.AxesSubplot object at 0x7fa29c6becd0>,\n",
       "        <matplotlib.axes._subplots.AxesSubplot object at 0x7fa29c67f510>,\n",
       "        <matplotlib.axes._subplots.AxesSubplot object at 0x7fa29c6b2d10>,\n",
       "        <matplotlib.axes._subplots.AxesSubplot object at 0x7fa29c673550>,\n",
       "        <matplotlib.axes._subplots.AxesSubplot object at 0x7fa29c626d50>,\n",
       "        <matplotlib.axes._subplots.AxesSubplot object at 0x7fa29c5e8590>,\n",
       "        <matplotlib.axes._subplots.AxesSubplot object at 0x7fa29c59ad90>,\n",
       "        <matplotlib.axes._subplots.AxesSubplot object at 0x7fa29c55b5d0>,\n",
       "        <matplotlib.axes._subplots.AxesSubplot object at 0x7fa29c50edd0>,\n",
       "        <matplotlib.axes._subplots.AxesSubplot object at 0x7fa29c4d1610>],\n",
       "       [<matplotlib.axes._subplots.AxesSubplot object at 0x7fa29c484e10>,\n",
       "        <matplotlib.axes._subplots.AxesSubplot object at 0x7fa29c446650>,\n",
       "        <matplotlib.axes._subplots.AxesSubplot object at 0x7fa29c3f9e50>,\n",
       "        <matplotlib.axes._subplots.AxesSubplot object at 0x7fa29c3ba690>,\n",
       "        <matplotlib.axes._subplots.AxesSubplot object at 0x7fa29c3ebe90>,\n",
       "        <matplotlib.axes._subplots.AxesSubplot object at 0x7fa29c3af6d0>,\n",
       "        <matplotlib.axes._subplots.AxesSubplot object at 0x7fa29c361ed0>,\n",
       "        <matplotlib.axes._subplots.AxesSubplot object at 0x7fa29c323710>,\n",
       "        <matplotlib.axes._subplots.AxesSubplot object at 0x7fa29c2d4f10>,\n",
       "        <matplotlib.axes._subplots.AxesSubplot object at 0x7fa29c296750>,\n",
       "        <matplotlib.axes._subplots.AxesSubplot object at 0x7fa29c248f50>,\n",
       "        <matplotlib.axes._subplots.AxesSubplot object at 0x7fa29c209790>,\n",
       "        <matplotlib.axes._subplots.AxesSubplot object at 0x7fa29c1bcf90>,\n",
       "        <matplotlib.axes._subplots.AxesSubplot object at 0x7fa29c17d7d0>],\n",
       "       [<matplotlib.axes._subplots.AxesSubplot object at 0x7fa29c1b1fd0>,\n",
       "        <matplotlib.axes._subplots.AxesSubplot object at 0x7fa29c175810>,\n",
       "        <matplotlib.axes._subplots.AxesSubplot object at 0x7fa29c130050>,\n",
       "        <matplotlib.axes._subplots.AxesSubplot object at 0x7fa29c0e8850>,\n",
       "        <matplotlib.axes._subplots.AxesSubplot object at 0x7fa29c0a5090>,\n",
       "        <matplotlib.axes._subplots.AxesSubplot object at 0x7fa29c05d890>,\n",
       "        <matplotlib.axes._subplots.AxesSubplot object at 0x7fa29c0190d0>,\n",
       "        <matplotlib.axes._subplots.AxesSubplot object at 0x7fa29bfd18d0>,\n",
       "        <matplotlib.axes._subplots.AxesSubplot object at 0x7fa29bf8c110>,\n",
       "        <matplotlib.axes._subplots.AxesSubplot object at 0x7fa29bf44910>,\n",
       "        <matplotlib.axes._subplots.AxesSubplot object at 0x7fa29bf02150>,\n",
       "        <matplotlib.axes._subplots.AxesSubplot object at 0x7fa29bf38950>,\n",
       "        <matplotlib.axes._subplots.AxesSubplot object at 0x7fa29bef7190>,\n",
       "        <matplotlib.axes._subplots.AxesSubplot object at 0x7fa29beab990>],\n",
       "       [<matplotlib.axes._subplots.AxesSubplot object at 0x7fa29be6b1d0>,\n",
       "        <matplotlib.axes._subplots.AxesSubplot object at 0x7fa29be1f9d0>,\n",
       "        <matplotlib.axes._subplots.AxesSubplot object at 0x7fa29bddf210>,\n",
       "        <matplotlib.axes._subplots.AxesSubplot object at 0x7fa29bd94a10>,\n",
       "        <matplotlib.axes._subplots.AxesSubplot object at 0x7fa29bd53250>,\n",
       "        <matplotlib.axes._subplots.AxesSubplot object at 0x7fa29bd0aa50>,\n",
       "        <matplotlib.axes._subplots.AxesSubplot object at 0x7fa29bcc8290>,\n",
       "        <matplotlib.axes._subplots.AxesSubplot object at 0x7fa29bc7da90>,\n",
       "        <matplotlib.axes._subplots.AxesSubplot object at 0x7fa29bc3c2d0>,\n",
       "        <matplotlib.axes._subplots.AxesSubplot object at 0x7fa29bc71ad0>,\n",
       "        <matplotlib.axes._subplots.AxesSubplot object at 0x7fa29bc30310>,\n",
       "        <matplotlib.axes._subplots.AxesSubplot object at 0x7fa29bbe6b10>,\n",
       "        <matplotlib.axes._subplots.AxesSubplot object at 0x7fa29bba6350>,\n",
       "        <matplotlib.axes._subplots.AxesSubplot object at 0x7fa29bb59b50>],\n",
       "       [<matplotlib.axes._subplots.AxesSubplot object at 0x7fa29bb19390>,\n",
       "        <matplotlib.axes._subplots.AxesSubplot object at 0x7fa29baceb90>,\n",
       "        <matplotlib.axes._subplots.AxesSubplot object at 0x7fa29ba8e3d0>,\n",
       "        <matplotlib.axes._subplots.AxesSubplot object at 0x7fa29ba40bd0>,\n",
       "        <matplotlib.axes._subplots.AxesSubplot object at 0x7fa29ba03410>,\n",
       "        <matplotlib.axes._subplots.AxesSubplot object at 0x7fa29ba36c10>,\n",
       "        <matplotlib.axes._subplots.AxesSubplot object at 0x7fa29b9f6450>,\n",
       "        <matplotlib.axes._subplots.AxesSubplot object at 0x7fa29b9abc50>,\n",
       "        <matplotlib.axes._subplots.AxesSubplot object at 0x7fa29b96a490>,\n",
       "        <matplotlib.axes._subplots.AxesSubplot object at 0x7fa29b91fc90>,\n",
       "        <matplotlib.axes._subplots.AxesSubplot object at 0x7fa29b8df4d0>,\n",
       "        <matplotlib.axes._subplots.AxesSubplot object at 0x7fa29b892cd0>,\n",
       "        <matplotlib.axes._subplots.AxesSubplot object at 0x7fa29b852510>,\n",
       "        <matplotlib.axes._subplots.AxesSubplot object at 0x7fa29b807d10>],\n",
       "       [<matplotlib.axes._subplots.AxesSubplot object at 0x7fa29b7c7550>,\n",
       "        <matplotlib.axes._subplots.AxesSubplot object at 0x7fa29b77bd50>,\n",
       "        <matplotlib.axes._subplots.AxesSubplot object at 0x7fa29b73c590>,\n",
       "        <matplotlib.axes._subplots.AxesSubplot object at 0x7fa29b76fd90>,\n",
       "        <matplotlib.axes._subplots.AxesSubplot object at 0x7fa29b7315d0>,\n",
       "        <matplotlib.axes._subplots.AxesSubplot object at 0x7fa29b6e2dd0>,\n",
       "        <matplotlib.axes._subplots.AxesSubplot object at 0x7fa29b6a4610>,\n",
       "        <matplotlib.axes._subplots.AxesSubplot object at 0x7fa29b658e10>,\n",
       "        <matplotlib.axes._subplots.AxesSubplot object at 0x7fa29b619650>,\n",
       "        <matplotlib.axes._subplots.AxesSubplot object at 0x7fa29b5cce50>,\n",
       "        <matplotlib.axes._subplots.AxesSubplot object at 0x7fa29b58f690>,\n",
       "        <matplotlib.axes._subplots.AxesSubplot object at 0x7fa29b53fe90>,\n",
       "        <matplotlib.axes._subplots.AxesSubplot object at 0x7fa29b5016d0>,\n",
       "        <matplotlib.axes._subplots.AxesSubplot object at 0x7fa29b534ed0>],\n",
       "       [<matplotlib.axes._subplots.AxesSubplot object at 0x7fa29b4f7710>,\n",
       "        <matplotlib.axes._subplots.AxesSubplot object at 0x7fa29b4a8f10>,\n",
       "        <matplotlib.axes._subplots.AxesSubplot object at 0x7fa29b46a750>,\n",
       "        <matplotlib.axes._subplots.AxesSubplot object at 0x7fa29b41ef50>,\n",
       "        <matplotlib.axes._subplots.AxesSubplot object at 0x7fa29b3de790>,\n",
       "        <matplotlib.axes._subplots.AxesSubplot object at 0x7fa29b390f90>,\n",
       "        <matplotlib.axes._subplots.AxesSubplot object at 0x7fa29b3527d0>,\n",
       "        <matplotlib.axes._subplots.AxesSubplot object at 0x7fa29b306fd0>,\n",
       "        <matplotlib.axes._subplots.AxesSubplot object at 0x7fa29b2c8810>,\n",
       "        <matplotlib.axes._subplots.AxesSubplot object at 0x7fa29b283050>,\n",
       "        <matplotlib.axes._subplots.AxesSubplot object at 0x7fa29b23c850>,\n",
       "        <matplotlib.axes._subplots.AxesSubplot object at 0x7fa29b278090>,\n",
       "        <matplotlib.axes._subplots.AxesSubplot object at 0x7fa29b22f890>,\n",
       "        <matplotlib.axes._subplots.AxesSubplot object at 0x7fa29b1ef0d0>],\n",
       "       [<matplotlib.axes._subplots.AxesSubplot object at 0x7fa29b1a48d0>,\n",
       "        <matplotlib.axes._subplots.AxesSubplot object at 0x7fa29b162110>,\n",
       "        <matplotlib.axes._subplots.AxesSubplot object at 0x7fa29b118910>,\n",
       "        <matplotlib.axes._subplots.AxesSubplot object at 0x7fa29b0d6150>,\n",
       "        <matplotlib.axes._subplots.AxesSubplot object at 0x7fa29b08b950>,\n",
       "        <matplotlib.axes._subplots.AxesSubplot object at 0x7fa29b04b190>,\n",
       "        <matplotlib.axes._subplots.AxesSubplot object at 0x7fa29b001990>,\n",
       "        <matplotlib.axes._subplots.AxesSubplot object at 0x7fa29afbe1d0>,\n",
       "        <matplotlib.axes._subplots.AxesSubplot object at 0x7fa29aff49d0>,\n",
       "        <matplotlib.axes._subplots.AxesSubplot object at 0x7fa29afb4210>,\n",
       "        <matplotlib.axes._subplots.AxesSubplot object at 0x7fa29af69a10>,\n",
       "        <matplotlib.axes._subplots.AxesSubplot object at 0x7fa29af27250>,\n",
       "        <matplotlib.axes._subplots.AxesSubplot object at 0x7fa29aedda50>,\n",
       "        <matplotlib.axes._subplots.AxesSubplot object at 0x7fa29ae9d290>],\n",
       "       [<matplotlib.axes._subplots.AxesSubplot object at 0x7fa29ae52a90>,\n",
       "        <matplotlib.axes._subplots.AxesSubplot object at 0x7fa29ae112d0>,\n",
       "        <matplotlib.axes._subplots.AxesSubplot object at 0x7fa29adc5a90>,\n",
       "        <matplotlib.axes._subplots.AxesSubplot object at 0x7fa29ad83310>,\n",
       "        <matplotlib.axes._subplots.AxesSubplot object at 0x7fa29ad39b10>,\n",
       "        <matplotlib.axes._subplots.AxesSubplot object at 0x7fa29acf9350>,\n",
       "        <matplotlib.axes._subplots.AxesSubplot object at 0x7fa29ad2cb50>,\n",
       "        <matplotlib.axes._subplots.AxesSubplot object at 0x7fa29acee390>,\n",
       "        <matplotlib.axes._subplots.AxesSubplot object at 0x7fa29aca1b90>,\n",
       "        <matplotlib.axes._subplots.AxesSubplot object at 0x7fa29ac623d0>,\n",
       "        <matplotlib.axes._subplots.AxesSubplot object at 0x7fa29ac17bd0>,\n",
       "        <matplotlib.axes._subplots.AxesSubplot object at 0x7fa29abd6410>,\n",
       "        <matplotlib.axes._subplots.AxesSubplot object at 0x7fa29ab8cc10>,\n",
       "        <matplotlib.axes._subplots.AxesSubplot object at 0x7fa29ab4b450>],\n",
       "       [<matplotlib.axes._subplots.AxesSubplot object at 0x7fa29aaffc50>,\n",
       "        <matplotlib.axes._subplots.AxesSubplot object at 0x7fa29aac0490>,\n",
       "        <matplotlib.axes._subplots.AxesSubplot object at 0x7fa29aaf2c90>,\n",
       "        <matplotlib.axes._subplots.AxesSubplot object at 0x7fa29aab34d0>,\n",
       "        <matplotlib.axes._subplots.AxesSubplot object at 0x7fa29aa69cd0>,\n",
       "        <matplotlib.axes._subplots.AxesSubplot object at 0x7fa29aa28510>,\n",
       "        <matplotlib.axes._subplots.AxesSubplot object at 0x7fa29a9dcd10>,\n",
       "        <matplotlib.axes._subplots.AxesSubplot object at 0x7fa29a99b550>,\n",
       "        <matplotlib.axes._subplots.AxesSubplot object at 0x7fa29a950d50>,\n",
       "        <matplotlib.axes._subplots.AxesSubplot object at 0x7fa29a910590>,\n",
       "        <matplotlib.axes._subplots.AxesSubplot object at 0x7fa29a8c3d90>,\n",
       "        <matplotlib.axes._subplots.AxesSubplot object at 0x7fa29a8855d0>,\n",
       "        <matplotlib.axes._subplots.AxesSubplot object at 0x7fa29a839dd0>,\n",
       "        <matplotlib.axes._subplots.AxesSubplot object at 0x7fa29a7fa610>],\n",
       "       [<matplotlib.axes._subplots.AxesSubplot object at 0x7fa29a82de10>,\n",
       "        <matplotlib.axes._subplots.AxesSubplot object at 0x7fa29a7ef650>,\n",
       "        <matplotlib.axes._subplots.AxesSubplot object at 0x7fa29a7a1e50>,\n",
       "        <matplotlib.axes._subplots.AxesSubplot object at 0x7fa29a764690>,\n",
       "        <matplotlib.axes._subplots.AxesSubplot object at 0x7fa29a717e90>,\n",
       "        <matplotlib.axes._subplots.AxesSubplot object at 0x7fa29a6d76d0>,\n",
       "        <matplotlib.axes._subplots.AxesSubplot object at 0x7fa29a68aed0>,\n",
       "        <matplotlib.axes._subplots.AxesSubplot object at 0x7fa29a64c710>,\n",
       "        <matplotlib.axes._subplots.AxesSubplot object at 0x7fa29a5fdf10>,\n",
       "        <matplotlib.axes._subplots.AxesSubplot object at 0x7fa29a5be750>,\n",
       "        <matplotlib.axes._subplots.AxesSubplot object at 0x7fa29a5f3f50>,\n",
       "        <matplotlib.axes._subplots.AxesSubplot object at 0x7fa29a5b3790>,\n",
       "        <matplotlib.axes._subplots.AxesSubplot object at 0x7fa29a566f90>,\n",
       "        <matplotlib.axes._subplots.AxesSubplot object at 0x7fa29a5287d0>],\n",
       "       [<matplotlib.axes._subplots.AxesSubplot object at 0x7fa29a4dbfd0>,\n",
       "        <matplotlib.axes._subplots.AxesSubplot object at 0x7fa29a49d810>,\n",
       "        <matplotlib.axes._subplots.AxesSubplot object at 0x7fa29a45a050>,\n",
       "        <matplotlib.axes._subplots.AxesSubplot object at 0x7fa29a411850>,\n",
       "        <matplotlib.axes._subplots.AxesSubplot object at 0x7fa29a3ce090>,\n",
       "        <matplotlib.axes._subplots.AxesSubplot object at 0x7fa29a386890>,\n",
       "        <matplotlib.axes._subplots.AxesSubplot object at 0x7fa29a3420d0>,\n",
       "        <matplotlib.axes._subplots.AxesSubplot object at 0x7fa29a2fa8d0>,\n",
       "        <matplotlib.axes._subplots.AxesSubplot object at 0x7fa29a337110>,\n",
       "        <matplotlib.axes._subplots.AxesSubplot object at 0x7fa29a2ed910>,\n",
       "        <matplotlib.axes._subplots.AxesSubplot object at 0x7fa29a2ab150>,\n",
       "        <matplotlib.axes._subplots.AxesSubplot object at 0x7fa29a260950>,\n",
       "        <matplotlib.axes._subplots.AxesSubplot object at 0x7fa29a220190>,\n",
       "        <matplotlib.axes._subplots.AxesSubplot object at 0x7fa29a1d6990>]],\n",
       "      dtype=object)"
      ]
     },
     "execution_count": 6,
     "metadata": {},
     "output_type": "execute_result"
    },
    {
     "data": {
      "image/png": "[encoded data removed]",
      "text/plain": [
       "<Figure size 1152x648 with 196 Axes>"
      ]
     },
     "metadata": {
      "needs_background": "light"
     },
     "output_type": "display_data"
    }
   ],
   "source": [
    "pd.plotting.scatter_matrix(data_ohe, figsize=(16, 9))"
   ]
  },
  {
   "cell_type": "markdown",
   "metadata": {},
   "source": [
    "Как видно из матрицы и графика выше, у нас нет мультиколлинеарности. В большинстве случаев зависимости нет вообще, а даже если она и наблюдается, то она очень мало выраженная и не несет в себе сильного влияния на остальные признаки. Осталось разобраться, все ли признаки нам нужны для обучения модели. Чем признаков больше, тем сложнее и дольше идет обучения, как следствие рультаты при \"переизбытке\" признаков могут оказаться хуже. Для выявления выжности признаков используем статистику, а именно проверим гипотезу о равенстве средних двух генеральных совокупностей. Идея состоит в том, чтобы разбить наши данные на две совокупности по целевому признаку - в одной совокупности все клиенты остались в банке, в другой все кто ушел. Далее для каждого признака найдем значение p-value, и если оно будет выше порогового - 0.05, значит мы принимаем нулевую гипотезу, что средние двух совокупностей равны, а наш признак незначим, так как его значения не влияют на то, останется ли клиент в банке или уйдет. Так каку признака - Количество недвижимости у клиента, есть пропуски, удалим их на время, и если данный признак окажется важным, то либо либо оставим ученные данные, либо подумаем над заменами, а если окажется не важным, то просто его исключим, и тогда данные удалять не нужно будет. Так как значений много, то можно спользвать стандартный т-тест, на большой выборке он работает хорошо даже на не симетричных распределениях."
   ]
  },
  {
   "cell_type": "code",
   "execution_count": 7,
   "metadata": {},
   "outputs": [
    {
     "data": {
      "text/html": [
       "<div>\n",
       "<style scoped>\n",
       "    .dataframe tbody tr th:only-of-type {\n",
       "        vertical-align: middle;\n",
       "    }\n",
       "\n",
       "    .dataframe tbody tr th {\n",
       "        vertical-align: top;\n",
       "    }\n",
       "\n",
       "    .dataframe thead th {\n",
       "        text-align: right;\n",
       "    }\n",
       "</style>\n",
       "<table border=\"1\" class=\"dataframe\">\n",
       "  <thead>\n",
       "    <tr style=\"text-align: right;\">\n",
       "      <th></th>\n",
       "      <th>probability</th>\n",
       "    </tr>\n",
       "  </thead>\n",
       "  <tbody>\n",
       "    <tr>\n",
       "      <td>RowNumber</td>\n",
       "      <td>0.164</td>\n",
       "    </tr>\n",
       "    <tr>\n",
       "      <td>CustomerId</td>\n",
       "      <td>0.504</td>\n",
       "    </tr>\n",
       "    <tr>\n",
       "      <td>CreditScore</td>\n",
       "      <td>0.026</td>\n",
       "    </tr>\n",
       "    <tr>\n",
       "      <td>Age</td>\n",
       "      <td>0.000</td>\n",
       "    </tr>\n",
       "    <tr>\n",
       "      <td>Tenure</td>\n",
       "      <td>0.115</td>\n",
       "    </tr>\n",
       "    <tr>\n",
       "      <td>Balance</td>\n",
       "      <td>0.000</td>\n",
       "    </tr>\n",
       "    <tr>\n",
       "      <td>NumOfProducts</td>\n",
       "      <td>0.000</td>\n",
       "    </tr>\n",
       "    <tr>\n",
       "      <td>HasCrCard</td>\n",
       "      <td>0.607</td>\n",
       "    </tr>\n",
       "    <tr>\n",
       "      <td>IsActiveMember</td>\n",
       "      <td>0.000</td>\n",
       "    </tr>\n",
       "    <tr>\n",
       "      <td>EstimatedSalary</td>\n",
       "      <td>0.128</td>\n",
       "    </tr>\n",
       "    <tr>\n",
       "      <td>Exited</td>\n",
       "      <td>0.000</td>\n",
       "    </tr>\n",
       "    <tr>\n",
       "      <td>Geography_Germany</td>\n",
       "      <td>0.000</td>\n",
       "    </tr>\n",
       "    <tr>\n",
       "      <td>Geography_Spain</td>\n",
       "      <td>0.000</td>\n",
       "    </tr>\n",
       "    <tr>\n",
       "      <td>Gender_Male</td>\n",
       "      <td>0.000</td>\n",
       "    </tr>\n",
       "  </tbody>\n",
       "</table>\n",
       "</div>"
      ],
      "text/plain": [
       "                   probability\n",
       "RowNumber                0.164\n",
       "CustomerId               0.504\n",
       "CreditScore              0.026\n",
       "Age                      0.000\n",
       "Tenure                   0.115\n",
       "Balance                  0.000\n",
       "NumOfProducts            0.000\n",
       "HasCrCard                0.607\n",
       "IsActiveMember           0.000\n",
       "EstimatedSalary          0.128\n",
       "Exited                   0.000\n",
       "Geography_Germany        0.000\n",
       "Geography_Spain          0.000\n",
       "Gender_Male              0.000"
      ]
     },
     "execution_count": 7,
     "metadata": {},
     "output_type": "execute_result"
    }
   ],
   "source": [
    "# Создадим тестовый датасет и исключим из него все пропуски\n",
    "data_ohe_test = data_ohe.dropna()\n",
    "# Разделим наше датасет на две выбоки\n",
    "data_exit = data_ohe_test.query('Exited == 1')\n",
    "data_not_exit = data_ohe_test.query('Exited != 1')\n",
    "# С помощью цикла найдем значения p-value для каждого признака и сохраним его в переменной\n",
    "for column in data:\n",
    "    results = st.ttest_ind(data_exit, data_not_exit, equal_var = False)\n",
    "data_proba = results.pvalue.round(3)\n",
    "# Создадим новый датасет в котором у нас будут названия признаков и записаны значения p-value\n",
    "name_features = data_ohe_test.columns\n",
    "features_importance = pd.DataFrame(data_proba, name_features)\n",
    "features_importance.columns = ['probability']\n",
    "# Выведем на экран\n",
    "features_importance"
   ]
  },
  {
   "cell_type": "markdown",
   "metadata": {},
   "source": [
    "У следующих признаков значения p-value превышают наше пороговое альфа в 0.05: RowNumber, CustomerId, Tenure, HasCrCard, EstimatedSalary, что означает для этих признаков можно принять нулевую гипотезу о равенстве средних совокупностей, а значит эти признаки можно исключить из обучения.\n",
    "\n",
    "Последний этап подготовки наших данных - это подготовить выборки для обучения. Так как у нас есть один большой датасет, а нам нужны три выборки - тренировочная, валидационная и тестовыя, то будем разбивать наши данны в два этапа. Сначала \"отщипнем\" 60% для тренировочной выборки, а оставшиеся 40% разобьем пополам, на валидационную и тестовую. Но перед этом подготовим наш целевой признак и оставшиеся признаки, убрав все не нужное."
   ]
  },
  {
   "cell_type": "code",
   "execution_count": 8,
   "metadata": {},
   "outputs": [],
   "source": [
    "# Исключаем малозначимые признаки\n",
    "features = data_ohe.drop(['RowNumber', 'CustomerId', 'Tenure', \n",
    "                          'HasCrCard', 'EstimatedSalary', 'Exited'], axis=1)\n",
    "# Выделяем целевой признак\n",
    "target = data_ohe['Exited']\n",
    "\n",
    "# Создаем тренировочные признаки и целевой признак\n",
    "features_train, features_other, target_train, target_other = train_test_split(\n",
    "features, target, test_size=0.4, random_state=12345)\n",
    "\n",
    "# Создаем валидационные и тестовые признаки и целевые признаки\n",
    "features_valid, features_test, target_valid, target_test = train_test_split(\n",
    "features_other, target_other, test_size=0.5, random_state=12345)"
   ]
  },
  {
   "cell_type": "markdown",
   "metadata": {},
   "source": [
    "Проверим как у нас сбалансированны классы. Для этого посмортим сколько у нас значений в целом признаке по каждому варианту."
   ]
  },
  {
   "cell_type": "code",
   "execution_count": 9,
   "metadata": {},
   "outputs": [
    {
     "data": {
      "text/plain": [
       "0    7963\n",
       "1    2037\n",
       "Name: Exited, dtype: int64"
      ]
     },
     "execution_count": 9,
     "metadata": {},
     "output_type": "execute_result"
    }
   ],
   "source": [
    "target.value_counts()"
   ]
  },
  {
   "cell_type": "markdown",
   "metadata": {},
   "source": [
    "На лицо дисбаланс, соотношение 1 к 4, не хорошо, но все решаемо.\n",
    "\n",
    "### Вывод\n",
    "\n",
    "Мы посмотрели наш датафрейм, проанализировали данные и признаки, исключили малозначимые, перекодировали категориальные признаки, проверили на мультиколлинеарность и даже проверили гипотезы из статистических методов, что позволило выявить малозначимые признаки. Так же подготовили данные для обучения: создали тренировочные, валидационные и тестовые признаки. Выявили что классы у нас не сбалансированны. Далее проведем исследование, посмотрим как модель обучается на несбалансированных данных, и посмотрим как мы сможем исправить данный дисбаланс, и как он повлияет на дальнейший результат."
   ]
  },
  {
   "cell_type": "markdown",
   "metadata": {},
   "source": [
    "# 2. Исследование задачи"
   ]
  },
  {
   "cell_type": "markdown",
   "metadata": {},
   "source": [
    "Возьмем для исследования модель решаюшего дерева, через цикл подберем ей параметры и найдем наилучее значение F1-меры. Метрику accuracy нет смысла считать если классы несбалансированны. Гораздо показательнее будет рассчитать метрики полноты и точности, или f1-меру, которая обьединяет в себе среднегармоническое значение этих двух величин. Чем ближе значение f1-меры, тем лучше предсказывает наша модель. Если значение f1-меры равно 0.5, то значит наша модель работает так же как и случайная модель, если же значение f1-меры меньше 0.5, то модель работает плохо."
   ]
  },
  {
   "cell_type": "code",
   "execution_count": 10,
   "metadata": {},
   "outputs": [
    {
     "name": "stdout",
     "output_type": "stream",
     "text": [
      "Выбираем лучшие параметры для нашей модели:\n",
      "\n",
      "Наилучший критерий для оценки модели: gini\n",
      "Наилучшая губина дерева: 6\n",
      "Наилучшее максимальное количество листов в узле: 17\n",
      "Наилучшее минимальное количество образцов в листе: 1\n",
      "Наилучшее значение F1-меры: 0.5684210526315789\n",
      "CPU times: user 25.8 s, sys: 5.66 ms, total: 25.9 s\n",
      "Wall time: 25.9 s\n"
     ]
    }
   ],
   "source": [
    "%%time\n",
    "# Создание переменных\n",
    "best_leaf_for_tree = 0\n",
    "best_depth_for_tree = 0\n",
    "best_f1_score = 0\n",
    "best_crit_for_tree = 0\n",
    "best_min_samples_leaf = 0\n",
    "\n",
    "# Напишем цикл для перебора гиперпараметров\n",
    "for crit in ['gini', 'entropy']:\n",
    "    for leaf in range(10, 21):\n",
    "        for depth in range(3, 11):\n",
    "            for min_leaf in range(1, 11):\n",
    "                model_tree = DecisionTreeClassifier(random_state=12345, criterion=crit, \n",
    "                                                max_depth=depth, max_leaf_nodes=leaf,\n",
    "                                               min_samples_leaf=min_leaf)\n",
    "                model_tree.fit(features_train, target_train)\n",
    "                predictions_valid = model_tree.predict(features_valid)\n",
    "                total_f1_score = f1_score(target_valid, predictions_valid)\n",
    "                if best_f1_score < total_f1_score:\n",
    "                    best_f1_score = total_f1_score\n",
    "                    best_leaf_for_tree = leaf\n",
    "                    best_depth_for_tree  = depth\n",
    "                    best_crit_for_tree = crit\n",
    "                    best_min_samples_leaf = min_leaf\n",
    "\n",
    "# Вывод на экран получившихся начений\n",
    "print(\"Выбираем лучшие параметры для нашей модели:\")\n",
    "print()\n",
    "print(\"Наилучший критерий для оценки модели:\", best_crit_for_tree)\n",
    "print(\"Наилучшая губина дерева:\", best_depth_for_tree)\n",
    "print(\"Наилучшее максимальное количество листов в узле:\", best_leaf_for_tree)\n",
    "print(\"Наилучшее минимальное количество образцов в листе:\", best_min_samples_leaf)\n",
    "print(\"Наилучшее значение F1-меры:\", best_f1_score)"
   ]
  },
  {
   "cell_type": "markdown",
   "metadata": {},
   "source": [
    "Параметры подобраны, теперь используя наши параметры посмотрим какое значение у нас получится на тестовых данных."
   ]
  },
  {
   "cell_type": "code",
   "execution_count": 11,
   "metadata": {},
   "outputs": [
    {
     "data": {
      "text/plain": [
       "0.5347"
      ]
     },
     "execution_count": 11,
     "metadata": {},
     "output_type": "execute_result"
    }
   ],
   "source": [
    "model_tree = DecisionTreeClassifier(random_state=12345, criterion=best_crit_for_tree, \n",
    "                                    max_depth=best_depth_for_tree, max_leaf_nodes=best_leaf_for_tree,\n",
    "                                    min_samples_leaf=best_min_samples_leaf)\n",
    "model_tree.fit(features_train, target_train)\n",
    "\n",
    "# Проверка модели на тестовых данных\n",
    "prediction_test_tree = model_tree.predict(features_test)\n",
    "f1_score(target_test, prediction_test_tree).round(4)"
   ]
  },
  {
   "cell_type": "markdown",
   "metadata": {},
   "source": [
    "Совсем не густо, далековато от нашего целевого ориентира в 0.59. Выведем показатели полноты, точности и f1-меры, построим матрицу матрицу ошибок и нарисуем график."
   ]
  },
  {
   "cell_type": "code",
   "execution_count": 12,
   "metadata": {},
   "outputs": [
    {
     "name": "stdout",
     "output_type": "stream",
     "text": [
      "              precision    recall  f1-score   support\n",
      "\n",
      "           0       0.86      0.96      0.91      1577\n",
      "           1       0.74      0.42      0.53       423\n",
      "\n",
      "    accuracy                           0.85      2000\n",
      "   macro avg       0.80      0.69      0.72      2000\n",
      "weighted avg       0.83      0.85      0.83      2000\n",
      "\n"
     ]
    }
   ],
   "source": [
    "report = classification_report(target_test, prediction_test_tree)\n",
    "print(report)"
   ]
  },
  {
   "cell_type": "markdown",
   "metadata": {},
   "source": [
    "Precision можно интерпретировать как доля объектов, названных классификатором положительными и при этом действительно являющимися положительными, а recall показывает, какую долю объектов положительного класса из всех объектов положительного класса нашел алгоритм. Судя по цифрам, наша модель очень хорошо находит клиентов которые не уйдут из банка, а вот с теми кто перестает быть клиентом, справляется плохо, видимо ей не хватило обучающих данных по уходящим клиентам."
   ]
  },
  {
   "cell_type": "code",
   "execution_count": 13,
   "metadata": {},
   "outputs": [
    {
     "data": {
      "text/html": [
       "<div>\n",
       "<style scoped>\n",
       "    .dataframe tbody tr th:only-of-type {\n",
       "        vertical-align: middle;\n",
       "    }\n",
       "\n",
       "    .dataframe tbody tr th {\n",
       "        vertical-align: top;\n",
       "    }\n",
       "\n",
       "    .dataframe thead th {\n",
       "        text-align: right;\n",
       "    }\n",
       "</style>\n",
       "<table border=\"1\" class=\"dataframe\">\n",
       "  <thead>\n",
       "    <tr style=\"text-align: right;\">\n",
       "      <th></th>\n",
       "      <th>0</th>\n",
       "      <th>1</th>\n",
       "    </tr>\n",
       "  </thead>\n",
       "  <tbody>\n",
       "    <tr>\n",
       "      <td>0</td>\n",
       "      <td>1515</td>\n",
       "      <td>62</td>\n",
       "    </tr>\n",
       "    <tr>\n",
       "      <td>1</td>\n",
       "      <td>246</td>\n",
       "      <td>177</td>\n",
       "    </tr>\n",
       "  </tbody>\n",
       "</table>\n",
       "</div>"
      ],
      "text/plain": [
       "      0    1\n",
       "0  1515   62\n",
       "1   246  177"
      ]
     },
     "execution_count": 13,
     "metadata": {},
     "output_type": "execute_result"
    }
   ],
   "source": [
    "conf_matrix = pd.DataFrame(confusion_matrix(target_test, prediction_test_tree))\n",
    "conf_matrix"
   ]
  },
  {
   "cell_type": "code",
   "execution_count": 14,
   "metadata": {},
   "outputs": [
    {
     "data": {
      "text/plain": [
       "<matplotlib.axes._subplots.AxesSubplot at 0x7fa299745990>"
      ]
     },
     "execution_count": 14,
     "metadata": {},
     "output_type": "execute_result"
    },
    {
     "data": {
      "image/png": "[encoded data removed]",
      "text/plain": [
       "<Figure size 720x432 with 2 Axes>"
      ]
     },
     "metadata": {
      "needs_background": "light"
     },
     "output_type": "display_data"
    }
   ],
   "source": [
    "plt.figure(figsize = (10,6))\n",
    "sn.heatmap(conf_matrix, annot=True)"
   ]
  },
  {
   "cell_type": "markdown",
   "metadata": {},
   "source": [
    "Мы видим, что наша модель ошибается на 2000 предсказаний в 308 случаях, причем в 246 случаях она уверяет что клиент не уйдет, а на самом деле он уходит, что совсем не хорошо. Нужно исправлять дисбаланс и переобучать модель.\n",
    "\n",
    "Посчитаем значение AUC-ROC и построим график кривой, для закрепления точки отсчета.\n",
    "Показатель AUC-ROC в идеальных условиях стремится к 1, у случайной модели равен 0.5, чем выше значение, тем лучше работает модель."
   ]
  },
  {
   "cell_type": "code",
   "execution_count": 15,
   "metadata": {},
   "outputs": [
    {
     "data": {
      "text/plain": [
       "0.8165781005208113"
      ]
     },
     "execution_count": 15,
     "metadata": {},
     "output_type": "execute_result"
    }
   ],
   "source": [
    "probabilities_valid = model_tree.predict_proba(features_valid)\n",
    "probabilities_one_valid = probabilities_valid[:, 1]\n",
    "auc_roc = roc_auc_score(target_valid, probabilities_one_valid)\n",
    "auc_roc"
   ]
  },
  {
   "cell_type": "code",
   "execution_count": 16,
   "metadata": {},
   "outputs": [
    {
     "data": {
      "image/png": "[encoded data removed]",
      "text/plain": [
       "<Figure size 432x288 with 1 Axes>"
      ]
     },
     "metadata": {
      "needs_background": "light"
     },
     "output_type": "display_data"
    }
   ],
   "source": [
    "fpr, tpr, thresholds = roc_curve(target_valid, probabilities_one_valid)\n",
    "plt.figure()\n",
    "plt.plot(fpr, tpr)\n",
    "# ROC-кривая случайной модели (выглядит как прямая)\n",
    "plt.plot([0, 1], [0, 1], linestyle='--')\n",
    "# < примените функции plt.xlim() и plt.ylim(), чтобы\n",
    "#   установить границы осей от 0 до 1 >\n",
    "plt.xlim(0, 1)\n",
    "plt.ylim(0, 1)\n",
    "# < примените функции plt.xlabel() и plt.ylabel(), чтобы\n",
    "#   подписать оси \"False Positive Rate\" и \"True Positive Rate\" >\n",
    "plt.xlabel('False Positive Rate')\n",
    "plt.ylabel('True Positive Rate')\n",
    "# < добавьте к графику заголовок \"ROC-кривая\" функцией plt.title() >\n",
    "plt.title('ROC-кривая')\n",
    "plt.show()"
   ]
  },
  {
   "cell_type": "markdown",
   "metadata": {},
   "source": [
    "### Вывод\n",
    "\n",
    "Была обучена модель на несбалансированных данных, посчитаны метрики и выявлено что наша модель не дообучилась, ей на хватает данных чтобы хорошо определять \"отточных\" клиентов. Решений здесь несколько, можно взвесить классы при обучении модели, и \"малочисленные\" классы получат больший вес при обучении, что позволит добиться более высоких результатов в метриках. Так же можно применить метод Увеличения выборки, увеличив число \"отточных\" клиентов до такого же значения как и \"не отточных\". Для оценки качества \"борьбы\" с дисбалансом будем опираться на значения f1-меры и значения AUC-ROC, текущие значения мы посчитали, теперь цель их увеличить."
   ]
  },
  {
   "cell_type": "markdown",
   "metadata": {},
   "source": [
    "# 3. Борьба с дисбалансом"
   ]
  },
  {
   "cell_type": "markdown",
   "metadata": {},
   "source": [
    "У нас дисбаланс классов и модель предсказывает не очень хорошо, хотелось бы улучшить качество метрик, перед выпуском модели в продакшн. Решить эту проблему можно тремя основными способами (на самом деле есть и еще способы, например снижение порога классификации, но протестируем мы модели на трех способах):\n",
    "- присвоить всем классам веса, так что малочисленные классы будут иметь больший вес (важность) при обучении модели;\n",
    "- сделать увеличение выборки, добавив значения в наш малочесленный класс, чтобы \"уравнять\" баланс;\n",
    "- сделать уменьшение выборки, убрав часть неважных, \"уровняв\" классы.\n",
    "\n",
    "Возьмем три модели:\n",
    "- Решающее дерево;\n",
    "- Случайный лес;\n",
    "- Логистическую регрессию.\n",
    "\n",
    "Каждую модель обучим с помощью взвешивания классов, увеличения и уменьшения выборок. После отберем самые удачные варианты моделей и посмотрим на результат на тестовой выборке.\n",
    "\n",
    "Для начала создадим функции которые подговят нам увеличенную и уменьшенную выборки для обучения."
   ]
  },
  {
   "cell_type": "code",
   "execution_count": 17,
   "metadata": {},
   "outputs": [
    {
     "name": "stdout",
     "output_type": "stream",
     "text": [
      "(4804, 8)\n",
      "(4784, 8)\n",
      "(4804,)\n",
      "(4784,)\n"
     ]
    },
    {
     "name": "stderr",
     "output_type": "stream",
     "text": [
      "/opt/conda/lib/python3.7/site-packages/ipykernel_launcher.py:24: UserWarning: Boolean Series key will be reindexed to match DataFrame index.\n",
      "/opt/conda/lib/python3.7/site-packages/ipykernel_launcher.py:25: UserWarning: Boolean Series key will be reindexed to match DataFrame index.\n"
     ]
    }
   ],
   "source": [
    "# Создаем функцию для увеличения обучающей выборки\n",
    "def upsample(features, target, repeat):\n",
    "    # Задаём переменные\n",
    "    features_zeros = features[target == 0]\n",
    "    features_ones = features[target == 1]\n",
    "    target_zeros = target[target == 0]\n",
    "    target_ones = target[target == 1]\n",
    "    \n",
    "    # С помощью функции concat сцепляем отрицательные признаки с положительными признаками \n",
    "    # увеличенными на задаваемое нами число раз. Тоже самое проделываем с целевым признаком\n",
    "    features_upsampled = pd.concat([features_zeros] + [features_ones] * repeat)\n",
    "    target_upsampled = pd.concat([target_zeros] + [target_ones] * repeat)\n",
    "    \n",
    "    # Перемешиваем данные, чтобы небыло повтояющихся циклов и модель лучше обучалась\n",
    "    features_upsampled, target_upsampled = shuffle(\n",
    "        features_upsampled, target_upsampled, random_state=12345)\n",
    "    \n",
    "    return features_upsampled, target_upsampled\n",
    "\n",
    "# Создаем две переменные которые будем использовать для обучения. Число 4 выбрано не случайно, так как\n",
    "# отрицательных признаков больше в 4 раза чем положительных, нужно уравнять классы\n",
    "features_upsampled, target_upsampled = upsample(features_train, target_train, 4)\n",
    "# посмтрим на размерности выборок\n",
    "print(features_upsampled[target == 0].shape)\n",
    "print(features_upsampled[target == 1].shape)\n",
    "print(target_upsampled[target == 0].shape)\n",
    "print(target_upsampled[target == 1].shape)"
   ]
  },
  {
   "cell_type": "code",
   "execution_count": 18,
   "metadata": {},
   "outputs": [
    {
     "name": "stdout",
     "output_type": "stream",
     "text": [
      "(1201, 8)\n",
      "(1196,)\n",
      "(1201,)\n",
      "(1196,)\n"
     ]
    },
    {
     "name": "stderr",
     "output_type": "stream",
     "text": [
      "/opt/conda/lib/python3.7/site-packages/ipykernel_launcher.py:27: UserWarning: Boolean Series key will be reindexed to match DataFrame index.\n"
     ]
    }
   ],
   "source": [
    "# Создаем функцию для уменьшения обучающей выборки\n",
    "def downsample(features, target, fraction):\n",
    "    # Задаём переменные\n",
    "    features_zeros = features[target == 0]\n",
    "    features_ones = features[target == 1]\n",
    "    target_zeros = target[target == 0]\n",
    "    target_ones = target[target == 1]\n",
    "    \n",
    "    # С помощью функции concat сцепляем положительныt признаки с отрицательными признаками\n",
    "    # уменьшенными на задаваемое нами число раз. Тоже самое проделываем с целевым признаком\n",
    "    features_downsampled = pd.concat(\n",
    "        [features_zeros.sample(frac=fraction, random_state=12345)] + [features_ones])\n",
    "    target_downsampled = pd.concat(\n",
    "        [target_zeros.sample(frac=fraction, random_state=12345)] + [target_ones])\n",
    "    \n",
    "    # Перемешиваем данные, чтобы небыло повтояющихся циклов и модель лучше обучалась\n",
    "    features_downsampled, target_downsampled = shuffle(\n",
    "        features_downsampled, target_downsampled, random_state=12345)\n",
    "    \n",
    "    return features_downsampled, target_downsampled\n",
    "\n",
    "# Создаем две переменные которые будем использовать для обучения. Число 0,25 выбрано не случайно, \n",
    "# так как отрицательных признаков больше в 4 раза чем положительных, нужно уравнять классы\n",
    "features_downsampled, target_downsampled = downsample(features_train, target_train, 0.25)\n",
    "\n",
    "# посмтрим на размерности выборок\n",
    "print(features_downsampled[target == 0].shape)\n",
    "print(target_downsampled[target == 1].shape)\n",
    "print(target_downsampled[target == 0].shape)\n",
    "print(target_downsampled[target == 1].shape)"
   ]
  },
  {
   "cell_type": "markdown",
   "metadata": {},
   "source": [
    "Выборки готовы, классы практически уравняли, можно приступать к обучению. Начнем с решающего дерева.\n",
    "Для начала обучим модель с подбором гиперпараметров с помощью взвешивания классов, потом вместо обучающей выборки будем использовать сэмплированые (увеличенную и уменьшенную) и из полученных вариантов для каждой модели отберем самый лучший, который и будем испытвать на тестовой выборке."
   ]
  },
  {
   "cell_type": "code",
   "execution_count": 19,
   "metadata": {},
   "outputs": [
    {
     "name": "stdout",
     "output_type": "stream",
     "text": [
      "Выбираем лучшие параметры для нашей модели:\n",
      "\n",
      "Наилучший критерий для оценки модели: entropy\n",
      "Наилучшая губина дерева: 5\n",
      "Наилучшее максимальное количество листов в узле: 15\n",
      "Наилучшее значение F1-меры: 0.603174603174603\n",
      "CPU times: user 6.9 s, sys: 15.2 ms, total: 6.91 s\n",
      "Wall time: 6.94 s\n"
     ]
    }
   ],
   "source": [
    "%%time\n",
    "# Создание переменных\n",
    "best_leaf_for_tree = 0\n",
    "best_depth_for_tree = 0\n",
    "best_f1_score = 0\n",
    "best_crit_for_tree = 0\n",
    "\n",
    "# Напишем цикл для перебора гиперпараметров\n",
    "for crit in ['gini', 'entropy']:\n",
    "    for leaf in range(10, 21):\n",
    "        for depth in range(3, 21):\n",
    "            model_tree = DecisionTreeClassifier(random_state=12345, criterion=crit, \n",
    "                                                max_depth=depth, max_leaf_nodes=leaf,\n",
    "                                               class_weight='balanced')\n",
    "            model_tree.fit(features_train, target_train)\n",
    "            predictions_valid = model_tree.predict(features_valid)\n",
    "            total_f1_score = f1_score(target_valid, predictions_valid)\n",
    "            if best_f1_score < total_f1_score:\n",
    "                best_f1_score = total_f1_score\n",
    "                best_leaf_for_tree = leaf\n",
    "                best_depth_for_tree  = depth\n",
    "                best_crit_for_tree = crit\n",
    "\n",
    "# Вывод на экран получившихся начений\n",
    "print(\"Выбираем лучшие параметры для нашей модели:\")\n",
    "print()\n",
    "print(\"Наилучший критерий для оценки модели:\", best_crit_for_tree)\n",
    "print(\"Наилучшая губина дерева:\", best_depth_for_tree)\n",
    "print(\"Наилучшее максимальное количество листов в узле:\", best_leaf_for_tree)\n",
    "print(\"Наилучшее значение F1-меры:\", best_f1_score)"
   ]
  },
  {
   "cell_type": "code",
   "execution_count": 20,
   "metadata": {},
   "outputs": [
    {
     "name": "stdout",
     "output_type": "stream",
     "text": [
      "Выбираем лучшие параметры для нашей модели:\n",
      "\n",
      "Наилучший критерий для оценки модели: entropy\n",
      "Наилучшая губина дерева: 5\n",
      "Наилучшее максимальное количество листов в узле: 15\n",
      "Наилучшее значение F1-меры: 0.603174603174603\n",
      "CPU times: user 8.34 s, sys: 14.9 ms, total: 8.36 s\n",
      "Wall time: 8.38 s\n"
     ]
    }
   ],
   "source": [
    "%%time\n",
    "# Создание переменных\n",
    "best_leaf_for_tree = 0\n",
    "best_depth_for_tree = 0\n",
    "best_f1_score = 0\n",
    "best_crit_for_tree = 0\n",
    "\n",
    "# Напишем цикл для перебора гиперпараметров\n",
    "for crit in ['gini', 'entropy']:\n",
    "    for leaf in range(10, 21):\n",
    "        for depth in range(3, 21):\n",
    "            model_tree = DecisionTreeClassifier(random_state=12345, criterion=crit, \n",
    "                                                max_depth=depth, max_leaf_nodes=leaf)\n",
    "            model_tree.fit(features_upsampled, target_upsampled)\n",
    "            predictions_valid = model_tree.predict(features_valid)\n",
    "            total_f1_score = f1_score(target_valid, predictions_valid)\n",
    "            if best_f1_score < total_f1_score:\n",
    "                best_f1_score = total_f1_score\n",
    "                best_leaf_for_tree = leaf\n",
    "                best_depth_for_tree  = depth\n",
    "                best_crit_for_tree = crit\n",
    "\n",
    "# Вывод на экран получившихся начений\n",
    "print(\"Выбираем лучшие параметры для нашей модели:\")\n",
    "print()\n",
    "print(\"Наилучший критерий для оценки модели:\", best_crit_for_tree)\n",
    "print(\"Наилучшая губина дерева:\", best_depth_for_tree)\n",
    "print(\"Наилучшее максимальное количество листов в узле:\", best_leaf_for_tree)\n",
    "print(\"Наилучшее значение F1-меры:\", best_f1_score)"
   ]
  },
  {
   "cell_type": "code",
   "execution_count": 21,
   "metadata": {},
   "outputs": [
    {
     "name": "stdout",
     "output_type": "stream",
     "text": [
      "Выбираем лучшие параметры для нашей модели:\n",
      "\n",
      "Наилучший критерий для оценки модели: entropy\n",
      "Наилучшая губина дерева: 6\n",
      "Наилучшее максимальное количество листов в узле: 12\n",
      "Наилучшее значение F1-меры: 0.6015037593984962\n",
      "CPU times: user 3.7 s, sys: 6.51 ms, total: 3.7 s\n",
      "Wall time: 3.73 s\n"
     ]
    }
   ],
   "source": [
    "%%time\n",
    "# Создание переменных\n",
    "best_leaf_for_tree = 0\n",
    "best_depth_for_tree = 0\n",
    "best_f1_score = 0\n",
    "best_crit_for_tree = 0\n",
    "\n",
    "# Напишем цикл для перебора гиперпараметров\n",
    "for crit in ['gini', 'entropy']:\n",
    "    for leaf in range(10, 21):\n",
    "        for depth in range(3, 21):\n",
    "            model_tree = DecisionTreeClassifier(random_state=12345, criterion=crit, \n",
    "                                                max_depth=depth, max_leaf_nodes=leaf)\n",
    "            model_tree.fit(features_downsampled, target_downsampled)\n",
    "            predictions_valid = model_tree.predict(features_valid)\n",
    "            total_f1_score = f1_score(target_valid, predictions_valid)\n",
    "            if best_f1_score < total_f1_score:\n",
    "                best_f1_score = total_f1_score\n",
    "                best_leaf_for_tree = leaf\n",
    "                best_depth_for_tree  = depth\n",
    "                best_crit_for_tree = crit\n",
    "\n",
    "# Вывод на экран получившихся начений\n",
    "print(\"Выбираем лучшие параметры для нашей модели:\")\n",
    "print()\n",
    "print(\"Наилучший критерий для оценки модели:\", best_crit_for_tree)\n",
    "print(\"Наилучшая губина дерева:\", best_depth_for_tree)\n",
    "print(\"Наилучшее максимальное количество листов в узле:\", best_leaf_for_tree)\n",
    "print(\"Наилучшее значение F1-меры:\", best_f1_score)"
   ]
  },
  {
   "cell_type": "markdown",
   "metadata": {},
   "source": [
    "Модель со взвешиваем классов показала такой же результат как и модель которая обучалась на увеличенной выборке, только затратила на обучение чуть меньше времени, что говорит о выборе в пользу нее для тестирования.\n",
    "\n",
    "Теперь перйдем к регрессии, посмотрим какой результат покажет данная модель."
   ]
  },
  {
   "cell_type": "code",
   "execution_count": 22,
   "metadata": {},
   "outputs": [
    {
     "name": "stdout",
     "output_type": "stream",
     "text": [
      "Выбираем лучшие параметры для нашей модели:\n",
      "\n",
      "Наилучшее значение регуляции: 10\n",
      "Наилучшее значние точности определения: 0.45599999999999996\n"
     ]
    }
   ],
   "source": [
    "# Создаем списки со значениями гиперпараметров\n",
    "C = [0.01, 0.1, 1, 10, 100]\n",
    "\n",
    "# Создаем переменные для записи лучших значений гиперпараметров\n",
    "best_f1_score_regression = 0\n",
    "best_C = 0\n",
    "\n",
    "# Напишем цикл для перебора гиперпараметров\n",
    "for value in C:\n",
    "    model_reg = LogisticRegression(random_state=12345, solver='liblinear', \n",
    "                                   C=value, class_weight='balanced')\n",
    "    model_reg.fit(features_train, target_train)\n",
    "    predictions_valid = model_reg.predict(features_valid)\n",
    "    total_f1_score = f1_score(target_valid, predictions_valid)\n",
    "    if best_f1_score_regression < total_f1_score:\n",
    "        best_f1_score_regression = total_f1_score\n",
    "        best_C = value\n",
    "                    \n",
    "print(\"Выбираем лучшие параметры для нашей модели:\")\n",
    "print()\n",
    "print(\"Наилучшее значение регуляции:\", best_C)\n",
    "print(\"Наилучшее значние точности определения:\", best_f1_score_regression)"
   ]
  },
  {
   "cell_type": "code",
   "execution_count": 23,
   "metadata": {},
   "outputs": [
    {
     "name": "stdout",
     "output_type": "stream",
     "text": [
      "Выбираем лучшие параметры для нашей модели:\n",
      "\n",
      "Наилучшее значение регуляции: 0.01\n",
      "Наилучшее значние точности определения: 0.4446215139442231\n"
     ]
    }
   ],
   "source": [
    "# Создаем списки со значениями гиперпараметров\n",
    "C = [0.01, 0.1, 1, 10, 100]\n",
    "\n",
    "# Создаем переменные для записи лучших значений гиперпараметров\n",
    "best_f1_score_regression = 0\n",
    "best_C = 0\n",
    "\n",
    "# Напишем цикл для перебора гиперпараметров\n",
    "for value in C:\n",
    "    model_reg = LogisticRegression(random_state=12345, solver='liblinear', C=value)\n",
    "    model_reg.fit(features_upsampled, target_upsampled)\n",
    "    predictions_valid = model_reg.predict(features_valid)\n",
    "    total_f1_score = f1_score(target_valid, predictions_valid)\n",
    "    if best_f1_score_regression < total_f1_score:\n",
    "        best_f1_score_regression = total_f1_score\n",
    "        best_C = value\n",
    "                    \n",
    "print(\"Выбираем лучшие параметры для нашей модели:\")\n",
    "print()\n",
    "print(\"Наилучшее значение регуляции:\", best_C)\n",
    "print(\"Наилучшее значние точности определения:\", best_f1_score_regression)"
   ]
  },
  {
   "cell_type": "code",
   "execution_count": 24,
   "metadata": {},
   "outputs": [
    {
     "name": "stdout",
     "output_type": "stream",
     "text": [
      "Выбираем лучшие параметры для нашей модели:\n",
      "\n",
      "Наилучшее значение регуляции: 0.01\n",
      "Наилучшее значние точности определения: 0.44426877470355736\n"
     ]
    }
   ],
   "source": [
    "# Создаем списки со значениями гиперпараметров\n",
    "C = [0.01, 0.1, 1, 10, 100]\n",
    "\n",
    "# Создаем переменные для записи лучших значений гиперпараметров\n",
    "best_f1_score_regression = 0\n",
    "best_C = 0\n",
    "\n",
    "# Напишем цикл для перебора гиперпараметров\n",
    "for value in C:\n",
    "    model_reg = LogisticRegression(random_state=12345, solver='liblinear', C=value)\n",
    "    model_reg.fit(features_downsampled, target_downsampled)\n",
    "    predictions_valid = model_reg.predict(features_valid)\n",
    "    total_f1_score = f1_score(target_valid, predictions_valid)\n",
    "    if best_f1_score_regression < total_f1_score:\n",
    "        best_f1_score_regression = total_f1_score\n",
    "        best_C = value\n",
    "                    \n",
    "print(\"Выбираем лучшие параметры для нашей модели:\")\n",
    "print()\n",
    "print(\"Наилучшее значение регуляции:\", best_C)\n",
    "print(\"Наилучшее значние точности определения:\", best_f1_score_regression)"
   ]
  },
  {
   "cell_type": "markdown",
   "metadata": {},
   "source": [
    "И снова победило взвешивание классов, переходим к случайному лесу."
   ]
  },
  {
   "cell_type": "code",
   "execution_count": 25,
   "metadata": {},
   "outputs": [
    {
     "name": "stdout",
     "output_type": "stream",
     "text": [
      "Выбираем лучшие параметры для нашей модели:\n",
      "\n",
      "Наилучший критерий для оценки модели: gini\n",
      "Наилучшая губина дерева: 6\n",
      "Наилучшее максимальное количество листов в узле: 15\n",
      "Наилучшее максимальное количество деревьев в лесу: 95\n",
      "Наилучшее значние точности определения: 0.6056475170399221\n",
      "CPU times: user 6min 37s, sys: 1.81 s, total: 6min 39s\n",
      "Wall time: 6min 40s\n"
     ]
    }
   ],
   "source": [
    "%%time\n",
    "# Создание переменных\n",
    "best_leaf_forest = 0\n",
    "best_depth_forest = 0\n",
    "best_f1_score_forest = 0\n",
    "best_crit_forest = 0\n",
    "best_estimators_forest = 0\n",
    "\n",
    "# Напишем цикл для перебора гиперпараметров\n",
    "for crit in ['gini', 'entropy']:\n",
    "    for leaf in range(7, 16):\n",
    "        for depth in range(2, 11):\n",
    "            for estim in range(70, 101, 5):\n",
    "                model_forest = RandomForestClassifier(random_state=12345, n_estimators=estim,\n",
    "                                                     criterion=crit, max_depth=depth, \n",
    "                                                      max_leaf_nodes=leaf, class_weight='balanced')\n",
    "                model_forest.fit(features_train, target_train)\n",
    "                predictions_valid = model_forest.predict(features_valid)\n",
    "                total_f1_score = f1_score(target_valid, predictions_valid)\n",
    "                if best_f1_score_forest < total_f1_score:\n",
    "                    best_f1_score_forest = total_f1_score\n",
    "                    best_leaf_forest = leaf\n",
    "                    best_depth_forest = depth\n",
    "                    best_crit_forest = crit\n",
    "                    best_estimators_forest = estim\n",
    "                    \n",
    "# Вывод на экран получившихся начений\n",
    "print(\"Выбираем лучшие параметры для нашей модели:\")\n",
    "print()\n",
    "print(\"Наилучший критерий для оценки модели:\", best_crit_forest)\n",
    "print(\"Наилучшая губина дерева:\", best_depth_forest)\n",
    "print(\"Наилучшее максимальное количество листов в узле:\", best_leaf_forest)\n",
    "print(\"Наилучшее максимальное количество деревьев в лесу:\", best_estimators_forest)\n",
    "print(\"Наилучшее значние точности определения:\", best_f1_score_forest)"
   ]
  },
  {
   "cell_type": "code",
   "execution_count": 26,
   "metadata": {},
   "outputs": [
    {
     "name": "stdout",
     "output_type": "stream",
     "text": [
      "Выбираем лучшие параметры для нашей модели:\n",
      "\n",
      "Наилучший критерий для оценки модели: entropy\n",
      "Наилучшая губина дерева: 9\n",
      "Наилучшее максимальное количество листов в узле: 13\n",
      "Наилучшее максимальное количество деревьев в лесу: 95\n",
      "Наилучшее значние точности определения: 0.6068965517241379\n",
      "CPU times: user 8min 52s, sys: 2.01 s, total: 8min 54s\n",
      "Wall time: 8min 55s\n"
     ]
    }
   ],
   "source": [
    "%%time\n",
    "# Создание переменных\n",
    "best_leaf_forest = 0\n",
    "best_depth_forest = 0\n",
    "best_f1_score_forest = 0\n",
    "best_crit_forest = 0\n",
    "best_estimators_forest = 0\n",
    "\n",
    "# Напишем цикл для перебора гиперпараметров\n",
    "for crit in ['gini', 'entropy']:\n",
    "    for leaf in range(7, 16):\n",
    "        for depth in range(2, 11):\n",
    "            for estim in range(70, 101, 5):\n",
    "                model_forest = RandomForestClassifier(random_state=12345, n_estimators=estim,\n",
    "                                                     criterion=crit, max_depth=depth, \n",
    "                                                      max_leaf_nodes=leaf)\n",
    "                model_forest.fit(features_upsampled, target_upsampled)\n",
    "                predictions_valid = model_forest.predict(features_valid)\n",
    "                total_f1_score = f1_score(target_valid, predictions_valid)\n",
    "                if best_f1_score_forest < total_f1_score:\n",
    "                    best_f1_score_forest = total_f1_score\n",
    "                    best_leaf_forest = leaf\n",
    "                    best_depth_forest = depth\n",
    "                    best_crit_forest = crit\n",
    "                    best_estimators_forest = estim\n",
    "                    \n",
    "# Вывод на экран получившихся начений\n",
    "print(\"Выбираем лучшие параметры для нашей модели:\")\n",
    "print()\n",
    "print(\"Наилучший критерий для оценки модели:\", best_crit_forest)\n",
    "print(\"Наилучшая губина дерева:\", best_depth_forest)\n",
    "print(\"Наилучшее максимальное количество листов в узле:\", best_leaf_forest)\n",
    "print(\"Наилучшее максимальное количество деревьев в лесу:\", best_estimators_forest)\n",
    "print(\"Наилучшее значние точности определения:\", best_f1_score_forest)"
   ]
  },
  {
   "cell_type": "code",
   "execution_count": 27,
   "metadata": {},
   "outputs": [
    {
     "name": "stdout",
     "output_type": "stream",
     "text": [
      "Выбираем лучшие параметры для нашей модели:\n",
      "\n",
      "Наилучший критерий для оценки модели: entropy\n",
      "Наилучшая губина дерева: 6\n",
      "Наилучшее максимальное количество листов в узле: 13\n",
      "Наилучшее максимальное количество деревьев в лесу: 85\n",
      "Наилучшее значние точности определения: 0.5992292870905588\n",
      "CPU times: user 4min 30s, sys: 1.64 s, total: 4min 32s\n",
      "Wall time: 4min 33s\n"
     ]
    }
   ],
   "source": [
    "%%time\n",
    "# Создание переменных\n",
    "best_leaf_forest = 0\n",
    "best_depth_forest = 0\n",
    "best_f1_score_forest = 0\n",
    "best_crit_forest = 0\n",
    "best_estimators_forest = 0\n",
    "\n",
    "# Напишем цикл для перебора гиперпараметров\n",
    "for crit in ['gini', 'entropy']:\n",
    "    for leaf in range(7, 16):\n",
    "        for depth in range(2, 11):\n",
    "            for estim in range(70, 101, 5):\n",
    "                model_forest = RandomForestClassifier(random_state=12345, n_estimators=estim,\n",
    "                                                     criterion=crit, max_depth=depth, \n",
    "                                                      max_leaf_nodes=leaf)\n",
    "                model_forest.fit(features_downsampled, target_downsampled)\n",
    "                predictions_valid = model_forest.predict(features_valid)\n",
    "                total_f1_score = f1_score(target_valid, predictions_valid)\n",
    "                if best_f1_score_forest < total_f1_score:\n",
    "                    best_f1_score_forest = total_f1_score\n",
    "                    best_leaf_forest = leaf\n",
    "                    best_depth_forest = depth\n",
    "                    best_crit_forest = crit\n",
    "                    best_estimators_forest = estim\n",
    "                    \n",
    "# Вывод на экран получившихся начений\n",
    "print(\"Выбираем лучшие параметры для нашей модели:\")\n",
    "print()\n",
    "print(\"Наилучший критерий для оценки модели:\", best_crit_forest)\n",
    "print(\"Наилучшая губина дерева:\", best_depth_forest)\n",
    "print(\"Наилучшее максимальное количество листов в узле:\", best_leaf_forest)\n",
    "print(\"Наилучшее максимальное количество деревьев в лесу:\", best_estimators_forest)\n",
    "print(\"Наилучшее значние точности определения:\", best_f1_score_forest)"
   ]
  },
  {
   "cell_type": "markdown",
   "metadata": {},
   "source": [
    "А вот в данной модели наилучшее значение метрики получилось у модели, которая обучалась на увеличинной выборке, а по времени это заняло на треть дольше, к тому же разница минимальная - 0.001. Поэтому в дальнейшем будем использовать при обучении и прогнозировании параметр взвешивания классов, без семплирования.\n",
    "\n",
    "### Вывод\n",
    "\n",
    "Мы выбрали три модели для тестирования. Для каждой модели мы провели обучение компанисируя дисбаланс классов. Был использован параметр *class_weight='balanced'* при обучении каждой модели. Так же было проведено обучение на увеличенной и уменьшенной выборках с целью минимизировать дисбалнс. Для каждой модели мы выбрали наилучший вариант обучения, наилучшие гиперпараметры, теперь можно переходить к 4 этапу и тестировать наши модели."
   ]
  },
  {
   "cell_type": "markdown",
   "metadata": {},
   "source": [
    "# 4. Тестирование модели"
   ]
  },
  {
   "cell_type": "markdown",
   "metadata": {},
   "source": [
    "Перед тем как переходить к тестутированию модели, нам нужно объединить валидационную и тренировочную выборки в одну, и уже на ней будем обучать наши итоговые модели. Так же нужно будет проделать процедуру unsampling`а для новых обучающих данных. "
   ]
  },
  {
   "cell_type": "code",
   "execution_count": 28,
   "metadata": {},
   "outputs": [],
   "source": [
    "# Объединяем тренировочные и валидацонные признаки в одну выборку\n",
    "full_features_train = pd.concat([features_train, features_valid])\n",
    "# Аналогично с целевым признаком\n",
    "full_target_train = pd.concat([target_train, target_valid])"
   ]
  },
  {
   "cell_type": "markdown",
   "metadata": {},
   "source": [
    "Данные подготовлены, можно приступать к тестированию"
   ]
  },
  {
   "cell_type": "code",
   "execution_count": 29,
   "metadata": {},
   "outputs": [
    {
     "data": {
      "text/plain": [
       "0.5749"
      ]
     },
     "execution_count": 29,
     "metadata": {},
     "output_type": "execute_result"
    }
   ],
   "source": [
    "model_tree = DecisionTreeClassifier(random_state=12345, criterion='entropy', \n",
    "                                    max_depth=5, max_leaf_nodes=15,\n",
    "                                    class_weight='balanced')\n",
    "model_tree.fit(full_features_train, full_target_train)\n",
    "\n",
    "# Проверка модели на тестовых данных\n",
    "prediction_test_tree = model_tree.predict(features_test)\n",
    "f1_score(target_test, prediction_test_tree).round(4)"
   ]
  },
  {
   "cell_type": "code",
   "execution_count": 30,
   "metadata": {},
   "outputs": [
    {
     "data": {
      "text/plain": [
       "0.4428"
      ]
     },
     "execution_count": 30,
     "metadata": {},
     "output_type": "execute_result"
    }
   ],
   "source": [
    "model_log_regression = LogisticRegression(random_state=12345, \n",
    "                               solver='liblinear', C=10, class_weight='balanced')\n",
    "model_log_regression.fit(full_features_train, full_target_train)\n",
    "prediction_test_forest = model_log_regression.predict(features_test)\n",
    "f1_score(target_test, prediction_test_forest).round(4)"
   ]
  },
  {
   "cell_type": "code",
   "execution_count": 31,
   "metadata": {},
   "outputs": [
    {
     "data": {
      "text/plain": [
       "0.6008"
      ]
     },
     "execution_count": 31,
     "metadata": {},
     "output_type": "execute_result"
    }
   ],
   "source": [
    "model_forest = RandomForestClassifier(random_state=12345, \n",
    "                                      n_estimators=95, \n",
    "                                      criterion='gini', \n",
    "                                      max_depth=6, \n",
    "                                      max_leaf_nodes=15,\n",
    "                                     class_weight='balanced')\n",
    "model_forest.fit(full_features_train, full_target_train)\n",
    "\n",
    "prediction_forest_test = model_forest.predict(features_test)\n",
    "f1_score(target_test, prediction_forest_test).round(4)"
   ]
  },
  {
   "cell_type": "markdown",
   "metadata": {},
   "source": [
    "Заветное значение метрики f1-меры чуть превысило целевой. Победил Случайный лес!), собственно как и всегда на текущем этапе обучения, за последний месяц.\n",
    "\n",
    "Остается посмотреть и сравнить параметры которые были получены на модели обученной на несбалансированных классах, с текущими результатами."
   ]
  },
  {
   "cell_type": "code",
   "execution_count": 32,
   "metadata": {},
   "outputs": [
    {
     "name": "stdout",
     "output_type": "stream",
     "text": [
      "              precision    recall  f1-score   support\n",
      "\n",
      "           0       0.92      0.81      0.86      1577\n",
      "           1       0.51      0.73      0.60       423\n",
      "\n",
      "    accuracy                           0.80      2000\n",
      "   macro avg       0.71      0.77      0.73      2000\n",
      "weighted avg       0.83      0.80      0.81      2000\n",
      "\n"
     ]
    }
   ],
   "source": [
    "report = classification_report(target_test, prediction_forest_test)\n",
    "print(report)"
   ]
  },
  {
   "cell_type": "markdown",
   "metadata": {},
   "source": [
    "Как видно из рассчетов, \"отточных клиентов\" просела точность, но возросла полнота, что позволило увеличить значение метрики с 0.5347 до 0.6008, чем ближе значение данной метрики к 1, тем лучше работает модель."
   ]
  },
  {
   "cell_type": "code",
   "execution_count": 33,
   "metadata": {},
   "outputs": [
    {
     "data": {
      "text/html": [
       "<div>\n",
       "<style scoped>\n",
       "    .dataframe tbody tr th:only-of-type {\n",
       "        vertical-align: middle;\n",
       "    }\n",
       "\n",
       "    .dataframe tbody tr th {\n",
       "        vertical-align: top;\n",
       "    }\n",
       "\n",
       "    .dataframe thead th {\n",
       "        text-align: right;\n",
       "    }\n",
       "</style>\n",
       "<table border=\"1\" class=\"dataframe\">\n",
       "  <thead>\n",
       "    <tr style=\"text-align: right;\">\n",
       "      <th></th>\n",
       "      <th>0</th>\n",
       "      <th>1</th>\n",
       "    </tr>\n",
       "  </thead>\n",
       "  <tbody>\n",
       "    <tr>\n",
       "      <td>0</td>\n",
       "      <td>1285</td>\n",
       "      <td>292</td>\n",
       "    </tr>\n",
       "    <tr>\n",
       "      <td>1</td>\n",
       "      <td>116</td>\n",
       "      <td>307</td>\n",
       "    </tr>\n",
       "  </tbody>\n",
       "</table>\n",
       "</div>"
      ],
      "text/plain": [
       "      0    1\n",
       "0  1285  292\n",
       "1   116  307"
      ]
     },
     "execution_count": 33,
     "metadata": {},
     "output_type": "execute_result"
    }
   ],
   "source": [
    "conf_matrix = pd.DataFrame(confusion_matrix(target_test, prediction_forest_test))\n",
    "conf_matrix"
   ]
  },
  {
   "cell_type": "code",
   "execution_count": 34,
   "metadata": {},
   "outputs": [
    {
     "data": {
      "text/plain": [
       "<matplotlib.axes._subplots.AxesSubplot at 0x7fa298fc0e90>"
      ]
     },
     "execution_count": 34,
     "metadata": {},
     "output_type": "execute_result"
    },
    {
     "data": {
      "image/png": "[encoded data removed]",
      "text/plain": [
       "<Figure size 720x432 with 2 Axes>"
      ]
     },
     "metadata": {
      "needs_background": "light"
     },
     "output_type": "display_data"
    }
   ],
   "source": [
    "plt.figure(figsize = (10,6))\n",
    "sn.heatmap(conf_matrix, annot=True)"
   ]
  },
  {
   "cell_type": "markdown",
   "metadata": {},
   "source": [
    "по показателям confusion_matrix тоже заметны улучшения, модель стала точнее определять TP (истинно положительных) клиентов - сейчас их было найдено 307, а ранее было найдено только 177, так же уменьшилось количество FN (ложноотрицательных ответов) - 246 против 116. Правда есть и ложка дегтя) - а именно по TN и FP модель просела."
   ]
  },
  {
   "cell_type": "code",
   "execution_count": 35,
   "metadata": {},
   "outputs": [
    {
     "data": {
      "text/plain": [
       "0.8564510128902305"
      ]
     },
     "execution_count": 35,
     "metadata": {},
     "output_type": "execute_result"
    }
   ],
   "source": [
    "probabilities_valid = model_forest.predict_proba(features_valid)\n",
    "probabilities_one_valid = probabilities_valid[:, 1]\n",
    "auc_roc = roc_auc_score(target_valid, probabilities_one_valid)\n",
    "auc_roc"
   ]
  },
  {
   "cell_type": "code",
   "execution_count": 36,
   "metadata": {},
   "outputs": [
    {
     "data": {
      "image/png": "[encoded data removed]",
      "text/plain": [
       "<Figure size 432x288 with 1 Axes>"
      ]
     },
     "metadata": {
      "needs_background": "light"
     },
     "output_type": "display_data"
    }
   ],
   "source": [
    "fpr, tpr, thresholds = roc_curve(target_valid, probabilities_one_valid)\n",
    "plt.figure()\n",
    "plt.plot(fpr, tpr)\n",
    "# ROC-кривая случайной модели (выглядит как прямая)\n",
    "plt.plot([0, 1], [0, 1], linestyle='--')\n",
    "# < примените функции plt.xlim() и plt.ylim(), чтобы\n",
    "#   установить границы осей от 0 до 1 >\n",
    "plt.xlim(0, 1)\n",
    "plt.ylim(0, 1)\n",
    "# < примените функции plt.xlabel() и plt.ylabel(), чтобы\n",
    "#   подписать оси \"False Positive Rate\" и \"True Positive Rate\" >\n",
    "plt.xlabel('False Positive Rate')\n",
    "plt.ylabel('True Positive Rate')\n",
    "# < добавьте к графику заголовок \"ROC-кривая\" функцией plt.title() >\n",
    "plt.title('ROC-кривая')\n",
    "plt.show()"
   ]
  },
  {
   "cell_type": "markdown",
   "metadata": {},
   "source": [
    "AUC-ROC тоже вырос, с 0.8165 до 0.8564, что тоже свидетельствует об улучшеннии нашей модели, кривая стала чуть повыше, а значит модель стала угадывать правильные значения допуская меньше ошибок.\n",
    "\n",
    "## Вывод\n",
    "\n",
    "Из «Бета-Банка» стали уходить клиенты. Каждый месяц. Немного, но заметно. Банковские маркетологи посчитали: сохранять текущих клиентов дешевле, чем привлекать новых. Нужно спрогнозировать, уйдёт клиент из банка в ближайшее время или нет.\n",
    "\n",
    "По предоставленным данным был проведен анализ и обработка, были выявлены наиболее важные признаки, которые в дальнейшем были использованы для обучения прогнозной модели. Было выявлено несбалансированность классов, проведено обучение модели с дибсалансом. Дисбаланс классов был устранен, используя несколько методов, протестировано три модели, и выбрана одна, которая могла превысить целовой показатель метрики f1-мера в 0.59, а именно получить велечину метрики в 0.6008. Модель стала точнее находить клиентов, которые стремятся покинуть банк, что собственно и требовалось."
   ]
  },
  {
   "cell_type": "code",
   "execution_count": null,
   "metadata": {},
   "outputs": [],
   "source": []
  }
 ],
 "metadata": {
  "kernelspec": {
   "display_name": "Python 3",
   "language": "python",
   "name": "python3"
  },
  "language_info": {
   "codemirror_mode": {
    "name": "ipython",
    "version": 3
   },
   "file_extension": ".py",
   "mimetype": "text/x-python",
   "name": "python",
   "nbconvert_exporter": "python",
   "pygments_lexer": "ipython3",
   "version": "3.8.3"
  },
  "toc": {
   "base_numbering": 1,
   "nav_menu": {},
   "number_sections": true,
   "sideBar": true,
   "skip_h1_title": false,
   "title_cell": "Table of Contents",
   "title_sidebar": "Contents",
   "toc_cell": false,
   "toc_position": {},
   "toc_section_display": true,
   "toc_window_display": false
  }
 },
 "nbformat": 4,
 "nbformat_minor": 2
}
